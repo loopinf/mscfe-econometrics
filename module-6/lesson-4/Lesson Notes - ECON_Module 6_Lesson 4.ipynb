{
 "cells": [
  {
   "cell_type": "markdown",
   "metadata": {
    "id": "SfW_Ou-KVGAa"
   },
   "source": [
    "\n",
    "## FINANCIAL ECONOMETRICS\n",
    "MODULE 6 | LESSON 4\n",
    "\n",
    "---"
   ]
  },
  {
   "cell_type": "markdown",
   "metadata": {
    "id": "fxyw4X77VO2I"
   },
   "source": [
    "# **VECTOR ERROR CORRECTION MODEL AND JOHANSEN TEST FOR COINTEGRATION**"
   ]
  },
  {
   "cell_type": "markdown",
   "metadata": {
    "id": "TAQ1bo80VOqJ"
   },
   "source": [
    "|  |  |\n",
    "|:---|:---|\n",
    "|**Reading Time** | 60 minutes |\n",
    "|**Prior Knowledge** | Cointegration for two time series, Error Correction Model  |\n",
    "|**Keywords** |Integrated Time Series, Vector Error Correction Model (VECM), Johansen Test, Trace Test, Maximum Eigenvalue Test  |\n",
    "\n",
    "\n",
    "---"
   ]
  },
  {
   "cell_type": "markdown",
   "metadata": {
    "id": "46Bl0HOclpkD"
   },
   "source": [
    "*In last lesson, we discussed the cointegration test for two time series. We also introduced Error Correction Model (ECM). In this lesson, we will look into a cointegration test for more than two time series. First, we will review the cointegration concept with more than two time series. Then, we will introduce the vector error correction model (VECM) as this is the model structure used for multivariate cointegration analysis. Next, we will introduce Johansen cointegration test for more than two time series.*"
   ]
  },
  {
   "cell_type": "code",
   "execution_count": null,
   "metadata": {},
   "outputs": [],
   "source": [
    "# Load packages\n",
    "import matplotlib.pyplot as plt\n",
    "import pandas as pd\n",
    "from arch.unitroot import ADF\n",
    "from statsmodels.tsa.api import VAR\n",
    "from statsmodels.tsa.vector_ar.vecm import VECM, coint_johansen\n",
    "\n",
    "plt.rcParams[\"figure.figsize\"] = (16, 9)  # Figure size and width"
   ]
  },
  {
   "cell_type": "code",
   "execution_count": null,
   "metadata": {},
   "outputs": [],
   "source": [
    "# Download datasets\n",
    "forex = pd.read_csv(\"../M6. forex_1.csv\")\n",
    "\n",
    "# Convert date variable to date format\n",
    "forex[\"Date2\"] = pd.to_datetime(forex[\"Date\"], format=\"%m/%d/%Y\")\n",
    "forex = forex.loc[:, [\"Date2\", \"AUDUSD\", \"NZDUSD\", \"USDCAD\"]].set_index(\"Date2\")"
   ]
  },
  {
   "cell_type": "markdown",
   "metadata": {
    "id": "WbdEajz0lpfo"
   },
   "source": [
    "## **1. Cointegration with More Than Two Time Series**"
   ]
  },
  {
   "cell_type": "markdown",
   "metadata": {
    "id": "vkaGrLuplpbS"
   },
   "source": [
    "First, let’s review the concept of cointegration in the case of multiple time series. An integrated time series of order $d$ can be written as $I(d)$. When we take the difference $d$ times, this series will turn into a stationary, $I(0), $ series. In this lesson, we will only deal with integrated time series of $I(1)$.\n",
    "\n",
    "Assume we have three $I(1) $ time series, $x_t $, $y_t $ and $z_t $. If there exists a linear combination:\n",
    "\n",
    "$$ \\beta_1 x_t+\\beta_2 y_t+\\beta_3 z_t \\equiv \\beta'W_t $$  \n",
    "\n",
    "that is stationary or $I(0)$, where $\\beta$ is a $3\\times 1 $ vector with $\\beta_1$, $\\beta_2$ and $\\beta_3 $ as its elements and  $W_t$ is a $3\\times 1 $ vector with $x_t $, $y_t $ and $z_t $ as elements.\n",
    "\n",
    "Then, we say that $x_t$, $y_t$ and $x_t$ are cointegrated. \n"
   ]
  },
  {
   "cell_type": "markdown",
   "metadata": {
    "id": "djiPkr8ZlpW5"
   },
   "source": [
    "## **2. Vector Error Correction Model (VECM)**"
   ]
  },
  {
   "cell_type": "markdown",
   "metadata": {
    "id": "mTXacBc1lpTD"
   },
   "source": [
    "Vector error correlation models are related to vector autoregressive models (VARs) introduced in Module 6, Lesson 2. If we have three time series, $x_t$, $y_t$ and $z_t$, we can write the VAR(1) model with these three time series as follows:\n",
    "\n",
    "$$ \\begin{align*}\n",
    "  x_t &= \\alpha_0 + \\alpha_1 x_{t-1} + \\alpha_2 y_{t-1} + \\alpha_3 z_{t-1} + u_t \\\\\n",
    "  y_t &= \\beta_0 + \\beta_1 x_{t-1} + \\beta_2 y_{t-1} + \\beta_3 z_{t-1} + v_t \\\\\n",
    "  z_t &= \\gamma_0 + \\gamma_1 x_{t-1} + \\gamma_2 y_{t-1} + \\gamma_3 z_{t-1} + w_t\n",
    "\\end{align*} $$\n",
    "\n",
    "\n",
    "Where $u_t$, $v_t$ and $w_t$ are white noise with $0$ mean and constant variance.\n",
    "\n",
    "Let’s rewrite the VAR(1) model above in matrix form as follows: \n",
    "\n",
    "$$ X_t = C_0 + \\Pi_0 X_{t-1} + \\epsilon_t $$\n",
    "\n",
    "Where $C_0$ is a $3 \\times 1$ constant vector: \n",
    "\n",
    "$$ C_0 = \\begin{bmatrix}\n",
    "  \\alpha_0 \\\\\n",
    "  \\beta_0 \\\\\n",
    "  \\gamma_0\n",
    "\\end{bmatrix} $$\n",
    "\n",
    "$X_t$ is a $3 \\times 1$ vector: \n",
    "\n",
    "$$ X_t = \\begin{bmatrix}\n",
    "  x_t \\\\\n",
    "  y_t\\\\\n",
    "  z_t\n",
    "\\end{bmatrix} $$\n",
    "\n",
    "$\\Pi_0$ is a $3 \\times 3$ matrix: \n",
    "\n",
    "$$ \\Pi_0 = \\begin{bmatrix}\n",
    "  \\alpha_1 & \\alpha_2 & \\alpha_3 \\\\\n",
    "  \\beta_1 & \\beta_2 & \\beta_3 \\\\\n",
    "  \\gamma_1 & \\gamma_2 & \\gamma_3 \n",
    "\\end{bmatrix} $$\n",
    "\n",
    "$\\epsilon_t$ is a $3 \\times 1$ white noise vector: \n",
    "\n",
    "$$ \\begin{bmatrix}\n",
    "  u_t \\\\\n",
    "  v_t \\\\\n",
    "  w_t\n",
    "\\end{bmatrix} $$\n",
    "\n",
    "We know if $x_t$, $y_t$ and $z_t$ are all stationary, we can use the above VAR(1) model. \n",
    "\n",
    "On the other hand, when they are not stationary, but their first differences are stationary, then we can use their first differences to model them as a VAR(1). The matrix form of the model can be written as follows:\n",
    "\n",
    "$$ \\Delta X_t = C_1 + \\Pi_1 \\Delta X_{t-1} + \\epsilon_t $$\n",
    "\n",
    "If $x_t$, $y_t$ and $z_t$ are not stationary but they are cointegrated, then we can adjust the above model with an error correction term. This adjusted model is called a vector error correction model (VECM). We can write the matrix form of a VEC model as follows:\n",
    "\n",
    "$$ \\Delta X_t = C + \\Pi X_{t-1} + \\Gamma \\Delta X_{t-1} + \\epsilon_t $$\n",
    "\n",
    "In general, we need more than one lag for the difference term on the right-hand side of the equation system. We will discuss later how to find the right number of lags in the system. For now, let’s assume the number of lags to be p. Hence, we can write our general VEC model as follows:\n",
    "\n",
    "$$ \\Delta X_t = C + \\Pi X_{t-1} + \\sum_{i=1}^{p-1} \\Gamma_i \\Delta X_{t-i} + \\epsilon_t $$\n",
    "\n",
    "Where \n",
    "\n",
    "> $C$ is the deterministic vector or matrix depending if there are constants and/or linear trend <br>\n",
    "> $\\Pi$ is a 3X3 matrix for coefficients of lagged $X_{t-1}$ vector <br>\n",
    "> $\\Gamma_i$ is a  3X3 matrix for coefficients of lagged differences of $X$ <br>\n",
    "> $\\epsilon_t$ is a white noise 3X1 vector with $0$ means and stable covariance <br>\n",
    "\n",
    "\n",
    "The above VEC model was introduced by Johansen. The major difference between a VEC model and VAR model is the new term $\\Pi X_{t-1}$ in the VEC model. $\\Pi X_{t-1}$ is the error correction term for a VEC model. This error correction term in a VEC model is the long-term equilibrium part of the model. $\\sum_{i=1}^{p-1}\\Gamma_i\\Delta X_{t-i}$ is the short-term movement part of the VEC model. Hence, VEC model can be used to analyze both long-term and short-term dynamics of cointegrated nonstationary $I(1)$ time series variables. We still assume $x_t$, $y_t$ and $z_t$ are $I(1)$.\n",
    "\n",
    "Let’s focus on the coefficient matrix $\\Pi$ for now. We can interpret $\\Pi$ as following three scenarios:\n",
    "\n",
    "**a. The rank of $\\Pi$ is $0$**\n",
    "\n",
    "If $\\Pi = 0$, that is all elements of $\\Pi$ are $0$, or the rank of $\\Pi$ is $0$, then there are no cointegrations among $x_t$, $y_t$ and $z_t$. If all time series are $I(1)$, the VECM will reduce to a VAR($p$) model with the first differences of all time series.\n",
    "\n",
    "**b. The rank of $\\Pi$ is full rank $K$**\n",
    "\n",
    "If $\\Pi$ has full rank $K$, (the diagonal elements of the matrix are all non-zero, in our case, $K= 3$, because we have 3 time series), then $x_t$, $y_t$ and $z_t$ are stationary. There are no unit roots from all time series. We can apply the original levels of these time series to a VAR($p$) model with no need to use a VEC model. This situation should not happen as we usually assume $x_t$, $y_t$, and $z_t$ are $I(1)$.\n",
    "\n",
    "**c. The rank of $\\Pi$ is between $0$ and $K$**\n",
    "\n",
    "If the rank of $\\Pi$ is $m$ and $0 < m < K $, it means $\\Pi$ has reduced rank. This is the case with cointegration. $\\Pi$ can be split into two terms as follows:\n",
    "\n",
    "$$ \\Pi = \\alpha \\beta' $$\n",
    "\n",
    "Where $\\Pi$ is a $K \\times K$ matrix, $\\alpha$ is a $K \\times m$ matrix, and $\\beta$ is a $K \\times m$ matrix.\n",
    "\n",
    "The columns of $\\beta$ matrix contain the $m$ co-integrating vectors, and the columns of $\\alpha$ contain the m adjustment vectors. $Rank(\\Pi) = Rank(\\alpha) = Rank(\\beta) =m$. Co-integrating vectors include coefficients of a linear combination of co-integrating time series. There are $m$ linear combinations from all time series that are stationary. Hence, there are $(k-m)$ unit roots from all time series.\n",
    "\n",
    "Adjustment vectors contain the coefficients that can bring the short-term deviation of the time series back to their long-term equilibrium relationship. The coefficients in adjustment vectors are error correction coefficients. Therefore, $\\Pi$ corrects the error gap that happened in the last period and brings short-term disequilibrium among time series back to their long-term equilibrium. \n",
    "\n",
    "Now we know that when we have multiple non-stationary co-integrating time series, we should use a VEC model. However, how do we test multiple non-stationary time series for cointegration? This will be the topic of our next section.\n",
    "\n"
   ]
  },
  {
   "cell_type": "markdown",
   "metadata": {
    "id": "tMZ9kNLclpPc"
   },
   "source": [
    "## **3. Johansen Cointegration Test**"
   ]
  },
  {
   "cell_type": "markdown",
   "metadata": {
    "id": "9YBegzK4lpKQ"
   },
   "source": [
    "There are two types of sequential tests proposed by Johansen to test cointegration for multiple time series: trace test and maximum eigenvalue test. They are both likelihood-ratio tests. Both tests run a series of tests on the rank of $\\Pi$ we discussed in the last section to decide the number of cointegration relationships in a time series vector.  These two tests have the same null hypothesis. The difference is the alternative hypothesis. Let’s use the following example to explain how the two tests work.\n"
   ]
  },
  {
   "cell_type": "markdown",
   "metadata": {
    "id": "QTMP-_DSlpGA"
   },
   "source": [
    "**Figure 1: Johansen Tests: Trace Test and Eigenvalue Test Demonstration**\n",
    "\n",
    "![image.png](data:image/png;base64,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)\n"
   ]
  },
  {
   "cell_type": "markdown",
   "metadata": {
    "id": "-yyw2bT5lpBz"
   },
   "source": [
    "In figure 1, we show the hypothesis test setup for trace test and maximum eigenvalue test. $r$ is the rank of $\\Pi$. We can see both null hypotheses start from rank = $0$, i.e., there is no cointegration. If we reject test 1, we move on to test 2. If we reject test 2, we move on to test 3 until we cannot reject null hypothesis or until we reach $K-1$ rank. $K$ is the total number of time series in the time series vector for testing. Once we stop, we can decide what the rank is and how many linear combinations or co-integrating relationships exist. \n",
    "\n",
    "In the next section, we will use three foreign exchange rates to demonstrate Johansen tests to identify a number of co-integrating relationships in the three foreign exchange rates.\n"
   ]
  },
  {
   "cell_type": "markdown",
   "metadata": {
    "id": "K2VXE3cblo-V"
   },
   "source": [
    "## **4. Johansen Test Application: AUDUSD, NZDUSD, and CADUSD**"
   ]
  },
  {
   "cell_type": "markdown",
   "metadata": {
    "id": "fJ2obTdrlo5k"
   },
   "source": [
    "In this section, we will use what we learned from last section to find the number of co-integrating relationships among AUDUSD, NZDUSD, and CADUSD foreign exchange rates from 2016 to 2021. In this example, we will use software to conduct the test. Let’s draw the time plot of the three time series first. \n"
   ]
  },
  {
   "cell_type": "markdown",
   "metadata": {},
   "source": [
    "**Figure 2: AUDUSD, NZDUSD, and CADUSD Foreign Exchange Rates Time Plot from 2016 to 2021**\n"
   ]
  },
  {
   "cell_type": "code",
   "execution_count": null,
   "metadata": {},
   "outputs": [],
   "source": [
    "# AUDUSD, NZDUSD, and CADUSD Foreign Exchange Rates Time Plot\n",
    "plt.plot(forex.AUDUSD, linewidth=1, c=\"g\", label=\"AUDUSD\")\n",
    "plt.plot(forex.NZDUSD, linewidth=1, c=\"r\", label=\"NZDUSD\")\n",
    "plt.plot(1 / forex.USDCAD, linewidth=1, c=\"b\", label=\"USDCAD\")  # 1/USDCAD=CADUSD\n",
    "plt.xlabel(\"Time\")\n",
    "plt.ylabel(\"NZDUSD & AUDUSD & USDCAD Forex Rates\")\n",
    "plt.legend()\n",
    "plt.show()"
   ]
  },
  {
   "cell_type": "markdown",
   "metadata": {
    "id": "qLI9WogLlotX"
   },
   "source": [
    "In figure 2, we can see all three time series seem to move together. Before running a cointegration test, we would like to check CADUSD to see if it is stationary. Let’s run ADF on CADUSD.\n"
   ]
  },
  {
   "cell_type": "markdown",
   "metadata": {},
   "source": [
    "**Figure 3: Augmented Dickey Fuller Test for CADUSD and First Difference of CADUSD**\n"
   ]
  },
  {
   "cell_type": "code",
   "execution_count": null,
   "metadata": {},
   "outputs": [],
   "source": [
    "# Augmented Dickey Fuller Test for CADUSD and First Difference of CADUSD\n",
    "CADUSD_adf = ADF(1 / forex.USDCAD, trend=\"n\", method=\"bic\")\n",
    "print(\n",
    "    \"CADUSD Augmented Dickey-Fuller Unit Root Test\\n\", CADUSD_adf.regression.summary()\n",
    ")\n",
    "print(\"\\nTest statistics and critical values: \\n\", CADUSD_adf)\n",
    "\n",
    "print(\"\\n\", \"# \" * 39, \"\\n\")\n",
    "CADUSD_d_adf = ADF((1 / forex.USDCAD).diff().dropna(), trend=\"n\", method=\"bic\")\n",
    "print(\n",
    "    \"First Difference of CADUSD Augmented Dickey-Fuller Unit Root Test\\n\",\n",
    "    CADUSD_d_adf.regression.summary(),\n",
    ")\n",
    "print(\"\\nTest statistics and critical values: \\n\", CADUSD_d_adf)"
   ]
  },
  {
   "cell_type": "markdown",
   "metadata": {
    "id": "LEf6popTloky"
   },
   "source": [
    "From figure 3, we can see that the CADUSD level has a unit root whereas the CADUSD first difference is stationary. Hence, we can say CADUSD is $I(1)$. Now, we can proceed to conduct a Johansen test for cointegration. We will use a trace test in this example. \n",
    "\n",
    "As we discussed in the last section, we need to decide the number of lags in the VEC model before we can use it to test cointegration. In the last lesson, we know R has the function to select the number of lags for a VAR model. We will use this function for our case. \n"
   ]
  },
  {
   "cell_type": "markdown",
   "metadata": {},
   "source": [
    "**Figure 4: Selection of Number of Lags for VEC Model**\n"
   ]
  },
  {
   "cell_type": "code",
   "execution_count": null,
   "metadata": {},
   "outputs": [],
   "source": [
    "# Selection of Number of Lags for VEC Model\n",
    "vecm_data = pd.concat(\n",
    "    [forex.AUDUSD, forex.NZDUSD, 1 / forex.USDCAD.rename(\"CADUSD\")], axis=1\n",
    ")\n",
    "\n",
    "# Fit VAR model and run lag selection tool\n",
    "model = VAR(vecm_data)\n",
    "x = model.select_order(maxlags=7, trend=\"c\")\n",
    "x.summary()"
   ]
  },
  {
   "cell_type": "markdown",
   "metadata": {
    "id": "ER7MzKs0locw"
   },
   "source": [
    "From figure 4, we can see all the information criteria select lag 1 for the level of the VAR model. \n",
    "\n",
    "Now let's check Johansen trace test results. \n"
   ]
  },
  {
   "cell_type": "markdown",
   "metadata": {},
   "source": [
    "**Figure 5: Johansen Trace Test Result for AUDUSD, NZDUSD, and CADUSD**\n"
   ]
  },
  {
   "cell_type": "code",
   "execution_count": null,
   "metadata": {},
   "outputs": [],
   "source": [
    "# Johansen Trace Test Result for AUDUSD, NZDUSD, and CADUSD\n",
    "\n",
    "jtest = coint_johansen(vecm_data, det_order=0, k_ar_diff=1)\n",
    "\n",
    "# Print the results\n",
    "print(f\"Eigenvalues of VECM coefficient matrix : {jtest.eig}\\n\")\n",
    "\n",
    "pd.DataFrame(\n",
    "    {\n",
    "        \"Test statistic\": jtest.trace_stat,\n",
    "        \"Critical values (90%)\": jtest.trace_stat_crit_vals[:, 0],\n",
    "        \"Critical values (95%)\": jtest.trace_stat_crit_vals[:, 1],\n",
    "        \"Critical values (99%)\": jtest.trace_stat_crit_vals[:, 2],\n",
    "    },\n",
    "    index=[\"rank=0\", \"rank<=1\", \"rank<=2\"],\n",
    ")"
   ]
  },
  {
   "cell_type": "code",
   "execution_count": null,
   "metadata": {},
   "outputs": [],
   "source": [
    "# VECM model\n",
    "vecm_model = VECM(endog=vecm_data, k_ar_diff=1, deterministic=\"ci\").fit()\n",
    "print(vecm_model.summary())"
   ]
  },
  {
   "cell_type": "markdown",
   "metadata": {
    "id": "WZoogn21loVq"
   },
   "source": [
    "Figure 5 shows the result of the Johansen trace test. The top part in Figure 5 shows the result for three tests: $H_0$: rank = $0$, $H_0$: rank = $1$, and $H_0$: rank = $2$. Let’s use 5% as our decision point. For $H_0$: rank = $0$ we can see the test statistic is 34.913 and the 5% critical value is 29.796. We reject $H_0$ and say the rank is not $0$ or a cointegration relationship would exist. Next, we investigate $H_0$: rank = $1$. The test statistic is 17.588 and the 5% critical value is 15.494. Hence, we cannot reject $H_0$: rank = $1$. There is one linear combination of three time series variables that is stationary. The coefficients of the linear combination are in the second part under '*Cointegration relations for loading-coefficients-column 1*' heading. We can write the linear combination as follows:\n",
    "\n",
    "$$ S = 0.19543292 + 1 \\cdot AUDUSD -1.1719575 \\cdot NZDUSD – 0.16022276 \\cdot CADUSD $$\n",
    "\n",
    "The above equation is the deviation from the long-term equilibrium of the three time series. Let’s check out the plot to see if this deviation is stationary.\n"
   ]
  },
  {
   "cell_type": "markdown",
   "metadata": {},
   "source": [
    "**Figure 6: Time Plot for Deviation from Long-Term Equilibrium**\n"
   ]
  },
  {
   "cell_type": "code",
   "execution_count": null,
   "metadata": {},
   "outputs": [],
   "source": [
    "# Time Plot for Deviation from Long-Term Equilibrium\n",
    "\"\"\"\n",
    "The precise coefficients of the linear combination are in:\n",
    "vecm_model.const_coint and vecm_model.beta\n",
    "S = 0.19543292 + 1*vecm_data.AUDUSD - 1.1719575*vecm_data.NZDUSD - 0.16022276*vecm_data.CADUSD\n",
    "\"\"\"\n",
    "S = (\n",
    "    vecm_model.const_coint[0][0]\n",
    "    + vecm_model.beta[0][0] * vecm_data.AUDUSD\n",
    "    + vecm_model.beta[1][0] * vecm_data.NZDUSD\n",
    "    + vecm_model.beta[2][0] * vecm_data.CADUSD\n",
    ")\n",
    "plt.plot(S)\n",
    "plt.show()"
   ]
  },
  {
   "cell_type": "markdown",
   "metadata": {
    "id": "wSQBkkmVloM2"
   },
   "source": [
    "From figure 6, we can see the deviation from long-term equilibrium is moving within a channel. Let’s take a look at the ADF test for the deviation.\n"
   ]
  },
  {
   "cell_type": "markdown",
   "metadata": {},
   "source": [
    "**Figure 7: ADF Test Result for Deviation from Long-Term Equilibrium**\n"
   ]
  },
  {
   "cell_type": "code",
   "execution_count": null,
   "metadata": {},
   "outputs": [],
   "source": [
    "# ADF Test Result for Deviation from Long-Term Equilibrium\n",
    "S_adf = ADF(S, trend=\"n\", method=\"bic\")\n",
    "print(\"Augmented Dickey-Fuller Unit Root Test\\n\", S_adf.regression.summary())\n",
    "print(\"\\nTest statistics and critical values: \\n\", S_adf)"
   ]
  },
  {
   "cell_type": "markdown",
   "metadata": {
    "id": "h8XLc_EGloDu"
   },
   "source": [
    "From figure 7, we can see that we easily reject that the deviation has a unit root because the test statistic (-3.997) is below 5% critical value (-1.94). \n"
   ]
  },
  {
   "cell_type": "markdown",
   "metadata": {},
   "source": [
    "## **5. Shiny Application for Unit Root Test and Johansen Cointegration Test**\n",
    "\n",
    "In this module, we provided a Shiny application to run a unit root test and Johansen cointegration test. \n",
    "\n",
    "[Click here to access the application.](https://worldquantuniversity.shinyapps.io/3FE-Module-6-Lesson-4/?_ga=2.126741453.1122025021.1661450296-1173458961.1656095235) For the unit root test tab, you select a variable from the variable list. The application will show augmented Dickey Fuller test results for both the level and first difference of the variable. For the Johansen cointegration test tab, you select two variables to run the test, and then the application will show the result."
   ]
  },
  {
   "cell_type": "markdown",
   "metadata": {
    "id": "CGGfPTj3loAD"
   },
   "source": [
    "## **6. Conclusion**"
   ]
  },
  {
   "cell_type": "markdown",
   "metadata": {
    "id": "dsfrWJ4Mln8o"
   },
   "source": [
    "In this lesson, we expanded our cointegration analysis to multiple time series. We first talked about the meaning of cointegration in the case of multiple time series. We then introduced the vector error correction model (VECM) as a foundation to understand the analysis of cointegration in multiple time series. We discussed the rank of $\\Pi$ coefficient matrix and the meanings of different ranks. We then introduced Johansen cointegration tests. We talked about two types of Johansen cointegration tests: trace test and maximum eigenvalue test. We showed how both tests are set up. We finished the lesson with one application of the Johansen trace test and demonstrated how to read the test results. This lesson concludes module 6. In the next module, we will introduce another model: agent-based modeling. \n"
   ]
  },
  {
   "cell_type": "markdown",
   "metadata": {
    "id": "NsyFnCT1ln4O"
   },
   "source": [
    "## **References**"
   ]
  },
  {
   "cell_type": "markdown",
   "metadata": {
    "id": "flE1WZO8ln0c"
   },
   "source": [
    "- Johansen, Søren. \"A Statistical Analysis of Integration for I(2) Variables.\" Econometric Theory, vol. 11, no. 1, 1995, pp. 25–59.\n"
   ]
  },
  {
   "cell_type": "markdown",
   "metadata": {
    "deletable": false,
    "editable": false
   },
   "source": [
    "---\n",
    "Copyright 2023 WorldQuant University. This\n",
    "content is licensed solely for personal use. Redistribution or\n",
    "publication of this material is strictly prohibited.\n"
   ]
  }
 ],
 "metadata": {
  "colab": {
   "authorship_tag": "ABX9TyN74pFDAKtKGxl6dL94r8Pw",
   "name": "Lesson Notes - ECON_Module 6_Lesson 4.ipynb",
   "provenance": [],
   "toc_visible": true
  },
  "kernelspec": {
   "display_name": "Python 3 (ipykernel)",
   "language": "python",
   "name": "python3"
  },
  "language_info": {
   "codemirror_mode": {
    "name": "ipython",
    "version": 3
   },
   "file_extension": ".py",
   "mimetype": "text/x-python",
   "name": "python",
   "nbconvert_exporter": "python",
   "pygments_lexer": "ipython3",
   "version": "3.9.7"
  }
 },
 "nbformat": 4,
 "nbformat_minor": 4
}
