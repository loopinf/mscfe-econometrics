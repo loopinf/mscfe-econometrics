{
 "cells": [
  {
   "cell_type": "markdown",
   "metadata": {},
   "source": [
    "\n",
    "## FINANCIAL ECONOMETRICS\n",
    "MODULE 7 | LESSON 1\n",
    "\n",
    "---"
   ]
  },
  {
   "cell_type": "markdown",
   "metadata": {},
   "source": [
    "# **MONTE CARLO SIMULATION**"
   ]
  },
  {
   "cell_type": "markdown",
   "metadata": {},
   "source": [
    "|  |  |\n",
    "|:---|:---|\n",
    "|**Reading Time** |  60 minutes |\n",
    "|**Prior Knowledge** | Time series analysis, Basic statistics  |\n",
    "|**Keywords** |Deterministic Model, Stochastic Model, Monte Carlo Simulation, Law of Large Numbers, Central Limit Theorem  |\n",
    "\n",
    "\n",
    "---"
   ]
  },
  {
   "cell_type": "markdown",
   "metadata": {},
   "source": [
    "*In this module, we are going to explore some new modeling techniques in financial econometrics. We will introduce agent-based modeling and classification. They are different from traditional regression based analysis. They are both relatively new methods compared to regression analysis. However, they have gained a lot of interest recently. In this lesson, we will first introduce some concepts that will help us understand agent-based modeling later. Specifically, we will discuss deterministic models and stochastic models. Then, we will introduce Monte Carlo simulation.*"
   ]
  },
  {
   "cell_type": "code",
   "execution_count": null,
   "metadata": {},
   "outputs": [],
   "source": [
    "# Load libraries\n",
    "import matplotlib.pyplot as plt\n",
    "import numpy as np\n",
    "\n",
    "plt.rcParams[\"figure.figsize\"] = (12, 9)  # Figure size and width"
   ]
  },
  {
   "cell_type": "markdown",
   "metadata": {},
   "source": [
    "## **1. Deterministic Models**"
   ]
  },
  {
   "cell_type": "markdown",
   "metadata": {},
   "source": [
    "**Deterministic models** are models that do not have a random term. Let's look at one example. Assume you put \\$10 dollars in an investment account at the beginning of each month. The account would give you a **fixed annual interest** of 40% compounding monthly. We can use the following equation to calculate the amount of money you will get by the end of a year.\n",
    "\n",
    "$$ \\sum_{i=0}^{11} P_t \\big(1 + \\frac{r}{12} \\big)^{12-i} $$\n",
    "\n",
    "where $P_t$ is the amount of money put in at the beginning of each month and $r$ is the fixed annual interest rate.\n"
   ]
  },
  {
   "cell_type": "markdown",
   "metadata": {},
   "source": [
    "**Figure 1: Deterministic Model: Cumulative Account Balance with Monthly $10 Dollars Investment and Fixed Annual Interest**\n"
   ]
  },
  {
   "cell_type": "code",
   "execution_count": null,
   "metadata": {},
   "outputs": [],
   "source": [
    "# Deterministic Model\n",
    "month = np.linspace(start=1, stop=12, num=12)\n",
    "x = []\n",
    "\n",
    "for i in range(12):\n",
    "    x.append(10 * (1 + 0.4 / 12) ** (12 - i))\n",
    "\n",
    "cum_x = np.cumsum(x)\n",
    "\n",
    "# Plot\n",
    "plt.plot(cum_x, marker=\"o\")\n",
    "plt.title(\"Deterministic Model\")\n",
    "plt.xlabel(\"End of Month\")\n",
    "plt.ylabel(\"Account Balance\")\n",
    "plt.annotate(\n",
    "    round(cum_x[11], 2), (10.5, cum_x[11] - 10), fontsize=13\n",
    ")  # Annotate last point\n",
    "plt.show()"
   ]
  },
  {
   "cell_type": "markdown",
   "metadata": {},
   "source": [
    "Figure 1 shows the cumulative account balance at the end of each month. With this model, we can accurately predict how much money is in the account at each month's end. There is no uncertainty within this model. If one invests \\\\$10 dollars at the beginning of every month, one will get \\\\$149.46 dollars by the end of the year. One can be 100% sure how much money will be in the account after one year if the amount of monthly investment is known in advance. \n",
    "\n",
    "A deterministic model will produce the same result given the input information is fixed. Repeated prediction processes with the same input for a deterministic model will not change the prediction outcome. Other common deterministic models are principal component analysis and factor analysis. The classification or cluster analysis we will discuss later in Lesson 4 is also a deterministic model. In contrast to the deterministic model, a stochastic model will have a random component in the model.\n"
   ]
  },
  {
   "cell_type": "markdown",
   "metadata": {},
   "source": [
    "## **2. Stochastic Models**"
   ]
  },
  {
   "cell_type": "markdown",
   "metadata": {},
   "source": [
    "**A stochastic model** is a model that has a random and unknown component in it. Let's go back to the example in the last section. Assume you put \\$10 dollars in an investment account at the beginning of each month. However, now the account would give you a **variable annual interest** adjusting and compounding monthly. The annual interest rate is a random variable and, for instance, follows a normal distribution with mean 40%. We cannot know the definitive numbers of all future interest revenues from the investment at time 0. There is uncertainty in predicting the future cumulative account balance. We can use the following equation to calculate the amount of money you will get by the end of a year.\n",
    "\n",
    "$$ \\sum_{i=0}^{11} P_t \\big(1 + \\frac{r_t}{12} \\big)^{12-i} $$ \n",
    "\n",
    "where $P_t$ is the amount of money put in at the beginning of each month and $r_t$ is the annual interest rate adjusted each month.\n",
    "\n",
    "In this case, we have introduced an uncertain component, the variable annual interest rate. In the following figure, we sample 12 interest rates from the normal distribution with mean 40% and apply them to the above model to come up with one possible account balance outcome for each month in a year. \n"
   ]
  },
  {
   "cell_type": "markdown",
   "metadata": {},
   "source": [
    "**Figure 2: Stochastic Model: Cumulative Account Balance with a Monthly $10 Dollar Investment and Variable Annual Interest**\n",
    "<span style='color: transparent; font-size:1%'>All rights reserved WQU WorldQuant University QQQQ</span>"
   ]
  },
  {
   "cell_type": "code",
   "execution_count": null,
   "metadata": {},
   "outputs": [],
   "source": [
    "# Stochastic model 1\n",
    "np.random.seed(123)\n",
    "int_1 = np.random.normal(0.4, 0.7, 12)  # np.random.normal(mean, sd, size)\n",
    "bal_1 = []\n",
    "\n",
    "for i in range(12):\n",
    "    bal_1.append(10 * (1 + int_1[i] / 12) ** (12 - i))\n",
    "\n",
    "cum_bal_1 = np.cumsum(bal_1)\n",
    "\n",
    "# Plot\n",
    "plt.plot(cum_bal_1, marker=\"o\")\n",
    "plt.title(\"Stochastic Model\")\n",
    "plt.xlabel(\"End of Month\")\n",
    "plt.ylabel(\"Account Balance\")\n",
    "plt.annotate(round(cum_bal_1[11], 2), (10.5, cum_bal_1[11] - 10), fontsize=13)\n",
    "plt.show()"
   ]
  },
  {
   "cell_type": "markdown",
   "metadata": {},
   "source": [
    "From figure 2, we can see the trend in the stochastic model is going up and is similar to the case for the deterministic model. However, a stochastic model has a squiggly line instead of a smooth line as in a deterministic model. This squiggly pattern comes from the fact that the variable annual interest rates applied to each month are different. Unlike a deterministic model, at time 0, the stochastic model cannot predict a precise number for what the account balance will be by the end of the year. We know the variable annual interest comes from a normal distribution with a mean of 40%, but we do not know the definite numbers. What we can do is sample 12 numbers from the distribution and apply them to the model to predict the account balance in a year. This is what we did in this example. However, if we repeat the same prediction process—sample another 12 numbers from the distribution and apply them to the model—we will very likely get another predicted account balance in a year. Every time we repeat the prediction process, we get a different account balance. The key difference between the deterministic model and stochastic model is that the prediction from the deterministic model is always the same no matter how many times one repeats the prediction process. However, the prediction outcome will be different from a stochastic model each time a researcher repeats the prediction process as shown in the following plot.\n"
   ]
  },
  {
   "cell_type": "markdown",
   "metadata": {},
   "source": [
    "**Figure 3: Three Different Prediction Paths for a Stochastic Investment Account Balance Model**\n"
   ]
  },
  {
   "cell_type": "code",
   "execution_count": null,
   "metadata": {},
   "outputs": [],
   "source": [
    "# Three different prediction paths\n",
    "\n",
    "# Stochastic model 2\n",
    "np.random.seed(375)\n",
    "int_2 = np.random.normal(0.4, 0.7, 12)\n",
    "bal_2 = []\n",
    "\n",
    "for i in range(12):\n",
    "    bal_2.append(10 * (1 + int_2[i] / 12) ** (12 - i))\n",
    "\n",
    "cum_bal_2 = np.cumsum(bal_2)\n",
    "\n",
    "\n",
    "# Stochastic model 3\n",
    "np.random.seed(999)\n",
    "int_3 = np.random.normal(0.4, 0.7, 12)\n",
    "bal_3 = []\n",
    "\n",
    "for i in range(12):\n",
    "    bal_3.append(10 * (1 + int_3[i] / 12) ** (12 - i))\n",
    "\n",
    "cum_bal_3 = np.cumsum(bal_3)\n",
    "\n",
    "\n",
    "# Plot three stochastic model lines\n",
    "plt.plot(cum_bal_1, marker=\"o\")\n",
    "plt.plot(cum_bal_2, marker=\"o\")\n",
    "plt.plot(cum_bal_3, marker=\"o\")\n",
    "plt.title(\"Stochastic Model\")\n",
    "plt.xlabel(\"End of Month\")\n",
    "plt.ylabel(\"Account Balance\")\n",
    "plt.annotate(round(cum_bal_1[11], 2), (10.5, cum_bal_1[11] - 10), fontsize=13)\n",
    "plt.annotate(round(cum_bal_2[11], 2), (10.5, cum_bal_2[11] - 10), fontsize=13)\n",
    "plt.annotate(round(cum_bal_3[11], 2), (10.5, cum_bal_3[11] - 10), fontsize=13)\n",
    "plt.show()"
   ]
  },
  {
   "cell_type": "markdown",
   "metadata": {},
   "source": [
    "In figure 3, we show three predicted cumulative account balance paths of the stochastic model. As you can see, all three of them follow the same trend in general with different variations. Their predicted outcomes for cumulative account balances by the end of a year are also different, as the plot indicates. This is the key difference between a deterministic model and a stochastic model. In a stochastic model, for each prediction activity, because of the random component in the model, you get a new line when you have a new set of sampled input data. In a deterministic model, no matter how many times you run prediction activities, you should always get the same line.\n",
    "\n",
    "The linear regression and ARIMA models are examples of stochastic models. As long as there is a random element with a probability distribution in a model, this model is a stochastic model.\n"
   ]
  },
  {
   "cell_type": "markdown",
   "metadata": {},
   "source": [
    "## **3. Monte Carlo Simulation**"
   ]
  },
  {
   "cell_type": "markdown",
   "metadata": {},
   "source": [
    "### **3.1 An Overview of Monte Carlo Simulation**"
   ]
  },
  {
   "cell_type": "markdown",
   "metadata": {},
   "source": [
    "In the last section, we learned that a stochastic model would generate a different prediction outcome for each prediction run due to the random component within the model. The prediction outcome of a stochastic model is not definite. We can generate samples from independent random variables in a stochastic model and apply them to the model to derive one predicted outcome. In the last section, we drew three sets of sampled data to generate three predicted lines in figure3. We can repeat the process multiple times, and we will get multiple predicted cumulative account balances. These predicted outcomes will form a distribution. We can calculate the average and use the average as our final prediction for the cumulative account balance. However, how accurate is this averaged cumulative account balance? We can use the variance derived from the distribution from sampled data to conduct statistical tests to check the accuracy of the averaged outcome. This technique is called Monte Carlo (MC) simulation. \n",
    "\n",
    "In general, we only have one set of realized datasets in a real-world project. For example, we only have one set of Google's historical stock price to analyze. However, if we have some idea what the probability distribution of Google's stock price should be or use Google's historical price to form an empirical distribution, with MC simulation, we can sample repeatedly from this distribution to generate several sets of samples and apply them to the model to generate predicted outcomes. Then, we use these predicted outcomes to conduct inferential statistics. Hence, we can see MC simulation as a random sampling technique from a probability distribution to estimate an unknown population parameter. \n",
    "\n",
    "MC simulation is based on two important statistics theories: law of large numbers (LLN) and central limit theorem (CLT).\n"
   ]
  },
  {
   "cell_type": "markdown",
   "metadata": {},
   "source": [
    "### **3.2 Law of Large Numbers and Central Limit Theorem**"
   ]
  },
  {
   "cell_type": "markdown",
   "metadata": {},
   "source": [
    "Let's quickly review LLN and CLT first. Assume we have a sequence of identically and independently distributed n random variables $x_1, x_2, \\cdots, x_n$. All the random variables have mean $\\mu$ and variance $\\sigma^2$. Let's define the average of the sequence as follows:\n",
    "\n",
    "$$ y_n = \\frac{x_1+x_2+...+x_n}{n}, \\ \\text{ where } n = 1, 2, \\cdots $$\n",
    "\n",
    "The law of large numbers states that $y_n$ will converge to $\\mu$ as $n \\to \\infty$.\n",
    "\n",
    "Let's also define $z_n$ as follows:\n",
    "\n",
    "$$ z_n = \\frac{(x_1-\\mu) + (x_2-\\mu) + \\cdots + (x_n-\\mu)}{\\sqrt{n}} $$\n",
    "\n",
    "The central limit theorem states that $z_n$ will converge to $N(0, \\sigma^2)$ as $n \\to \\infty$.\n"
   ]
  },
  {
   "cell_type": "markdown",
   "metadata": {},
   "source": [
    "### **3.3 Estimators for Unknown Stochastic Model Outcome Expected Value and Variance**"
   ]
  },
  {
   "cell_type": "markdown",
   "metadata": {},
   "source": [
    "According to the law of large numbers, the average of a very large sample is a good approximation of the unknown model outcome, meaning $\\mu$. Hence, if we run random samplings for $m$ times to get $m$ model outcomes and $m$ is large enough, the sample average\n",
    "\n",
    "$$ \\overline{\\mu} = \\frac{1}{m} \\sum_{i=1}^{m} x_i $$\n",
    "\n",
    "will be a good approximation of $\\mu$.\n",
    "\n",
    "Also, we can obtain an estimate of the variance from the samples using the formula:\n",
    "\n",
    "$$ \\sigma^2_m = \\frac{\\sum_{i=1}^{m} (x_i - \\overline{\\mu})^2}{m-1} $$\n",
    "\n",
    "According to central limit theorem, we can write the following equation:\n",
    "\n",
    "$$ \\overline{\\mu} - \\mu\\sim \\frac{\\sigma}{\\sqrt{m}} z , \\ \\text{ where } z \\sim N(0,1) $$\n",
    "\n",
    "Hence, $AVG_m$ converges to $\\mu$ with speed of $\\frac{\\sigma}{\\sqrt{m}}$ as $m$ is large enough.\n",
    "\n",
    "With the above information, we can construct a 95% confidence interval as follows:\n",
    "\n",
    "$$ \\Big[\\overline{\\mu} - \\frac{1.96\\sigma_m}{\\sqrt{m}}, \\ \\ \\overline{\\mu} + \\frac{1.96\\sigma_m}{\\sqrt{m}} \\Big] $$\n",
    "\n",
    "where $\\sigma_m$ is the standard deviation of sampled outcomes.\n",
    "\n",
    "From introductory statistics, we know that the true value has a 95% chance of being within the confidence interval. The width of the confidence interval is used as a measure of the precision of the estimate. \n",
    "\n",
    "We can see that the width is controlled by two elements: the number of sampling frequencies and the variance of the sampled outcomes. \n",
    "\n",
    "> **a.** The size of number of sampling frequencies m: as m goes up, the width of the CI shrinks. <br>\n",
    "> **b.** The variance of the sampled outcomes $\\sigma^2_m$: as $\\sigma^2_m$ goes up, the width of the CI expands.\n",
    "\n",
    "Therefore, in order to increase the precision of the Monte Carlo simulation, we can either increase the number of simulations or reduce the variance of the outcome variable. In this lesson, we will focus on increasing the number of simulations to improve Monte Carlo simulation results. For those who are interested in reducing the variance of the outcome variable, you can research variance reduction techniques online. \n"
   ]
  },
  {
   "cell_type": "markdown",
   "metadata": {},
   "source": [
    "### **3.4 Monte Carlo Simulation Application: Investment Account Balance Stochastic Model**\n",
    "\n",
    "\n",
    "\n"
   ]
  },
  {
   "cell_type": "markdown",
   "metadata": {},
   "source": [
    "Let's use our investment account balance stochastic model as an example to run Monte Carlo simulation. The stochastic model is as follows:\n",
    "\n",
    "$$ \\sum_{i=0}^{11} 10 \\big(1 + \\frac{r_t}{12} \\big)^{12-i} $$ \n",
    "\n",
    "Where $r_t$ is the annual interest rate adjusted each month.\n",
    "\n",
    "We will put in $10 dollars at the beginning of each month for a year or 12 months. The variable annual interest rate follows a normal distribution with mean of 40% and standard deviation of 0.7. We would like to forecast the account balance by the end of a year.\n",
    "\n",
    "Here are the steps to run a Monte Carlo simulation to get samples of year-end account balance:\n",
    "\n",
    "> 1. Sample 12 rates from variable annual interest rate distribution $N$(40\\%, 0.7).  <br>\n",
    "> 2. Apply 12 rates into the model and generate one data point for year-end account balance.  <br>\n",
    "> 3. Repeat step 1 and step 2 $m$ times to get $m$ data points for year-end account balance.  <br>\n",
    "> 4. Calculate the mean and standard deviation of the $m$ data points and construct confidence intervals.  <br>\n",
    "\n",
    "For our investment account balance model, we will run MC simulations 100 times, 1,000 times, 100,000 times, and 1 million times to compare the results. The following plots and tables show the simulation results from different runs.\n"
   ]
  },
  {
   "cell_type": "markdown",
   "metadata": {},
   "source": [
    "**Figure 4: MC Simulation with 100 Trials, 1,000 Trials, 100,000 Trials and 1 Million Trials**\n"
   ]
  },
  {
   "cell_type": "code",
   "execution_count": null,
   "metadata": {},
   "outputs": [],
   "source": [
    "# Monte Carlo Simulation\n",
    "\n",
    "\n",
    "# Helper function that plots histogram and prints statistics\n",
    "def Hist(trials):\n",
    "    res = []\n",
    "\n",
    "    # Simulate Monte Carlo sample\n",
    "    for j in range(trials):\n",
    "        int = np.random.normal(0.4, 0.7, 12)\n",
    "        bal = []\n",
    "\n",
    "        for i in range(12):\n",
    "            bal.append(10 * (1 + int[i] / 12) ** (12 - i))\n",
    "\n",
    "        res.append(sum(bal))\n",
    "\n",
    "    # Plot Histogram\n",
    "    plt.hist(res, bins=30, density=True, histtype=\"stepfilled\", alpha=0.7)\n",
    "    plt.title(\"Histogram of {} Simulations\".format(trials))\n",
    "    plt.xlabel(\"Cumulatice Account Balance\")\n",
    "    plt.ylabel(\"Frequency\")\n",
    "\n",
    "    # Add statistics\n",
    "    avg = np.mean(res)  # Mean\n",
    "    sigma = np.std(res)  # Std\n",
    "    lowb = avg - 1.96 * sigma / np.sqrt(trials)  # Low Bound\n",
    "    upb = avg + 1.96 * sigma / np.sqrt(trials)  # Upper Bound\n",
    "    width = upb - lowb\n",
    "\n",
    "    textstr = \"{0} trials\\n Average: {1:.2f}\\nStandard Dev: {2:.2f}\\\n",
    "\\n Upper Bound: {3:.2f}\\n Low Bound: {4:.2f}\\n Width: {5:.2f}\".format(\n",
    "        (trials), (avg), (sigma), (upb), (lowb), (width)\n",
    "    )\n",
    "    return textstr"
   ]
  },
  {
   "cell_type": "code",
   "execution_count": null,
   "metadata": {},
   "outputs": [],
   "source": [
    "# Plot four histograms\n",
    "plt.figure(figsize=(16, 12))\n",
    "\n",
    "# No. trials = 100\n",
    "ax1 = plt.subplot(221)\n",
    "fig1 = Hist(100)\n",
    "plt.text(\n",
    "    0.95,\n",
    "    0.85,\n",
    "    fig1,\n",
    "    ha=\"right\",\n",
    "    va=\"center\",\n",
    "    fontsize=10,\n",
    "    bbox={\"facecolor\": \"orange\", \"alpha\": 0.5},\n",
    "    transform=ax1.transAxes,\n",
    ")\n",
    "\n",
    "# No. trials = 1,000\n",
    "ax2 = plt.subplot(222)\n",
    "fig2 = Hist(1000)\n",
    "plt.text(\n",
    "    0.95,\n",
    "    0.85,\n",
    "    fig2,\n",
    "    ha=\"right\",\n",
    "    va=\"center\",\n",
    "    fontsize=10,\n",
    "    bbox={\"facecolor\": \"orange\", \"alpha\": 0.5},\n",
    "    transform=ax2.transAxes,\n",
    ")\n",
    "\n",
    "# No. trials = 100,000\n",
    "ax3 = plt.subplot(223)\n",
    "fig3 = Hist(100000)\n",
    "plt.text(\n",
    "    0.95,\n",
    "    0.85,\n",
    "    fig3,\n",
    "    ha=\"right\",\n",
    "    va=\"center\",\n",
    "    fontsize=10,\n",
    "    bbox={\"facecolor\": \"orange\", \"alpha\": 0.5},\n",
    "    transform=ax3.transAxes,\n",
    ")\n",
    "\n",
    "# No. trials = 1,000,000\n",
    "ax4 = plt.subplot(224)\n",
    "fig4 = Hist(1000000)\n",
    "plt.text(\n",
    "    0.95,\n",
    "    0.85,\n",
    "    fig4,\n",
    "    ha=\"right\",\n",
    "    va=\"center\",\n",
    "    fontsize=10,\n",
    "    bbox={\"facecolor\": \"orange\", \"alpha\": 0.5},\n",
    "    transform=ax4.transAxes,\n",
    ")\n",
    "plt.show()"
   ]
  },
  {
   "cell_type": "markdown",
   "metadata": {},
   "source": [
    "Figure 4 shows the histograms of predicted account balance distribution with a different number of trials. We can see as the number of trials increases, the shape of the histogram will become more concentrated.\n",
    "\n",
    "In figure 4, we can see as the number of trails increases, the average predicted year-end account balance converges to 162.5. We can see when the number of trials increases to 1,000 runs from 100 runs, the average drops a lot and then stays very stable around 162.5. Also, the width of the confidence intervals drops a lot from 1,000 runs to 100 runs. From these two numbers, we can say 1,000 trials are enough to get convergent results for a year-end account balance estimator.\n"
   ]
  },
  {
   "cell_type": "markdown",
   "metadata": {},
   "source": [
    "## **4. Conclusion**"
   ]
  },
  {
   "cell_type": "markdown",
   "metadata": {},
   "source": [
    "In this lesson, we introduced some new concepts to set the foundation for learning agent-based modeling later. We first discussed deterministic models, that is, models without any random component or uncertainty within the model. When one uses a deterministic model for prediction, the prediction outcome is certain. Then, we considered stochastic models, i.e., models with a random component. Because of the randomness, if one runs simulations many times and uses simulation results, the predictions obtained will in general be different for different simulations. In order to analyze multiple prediction outputs, we introduced the concept of Monte Carlo simulation. A Monte Carlo simulation repeatedly samples data from the model to generate predicted outcomes and perform inference about the model. With these concepts in hand, we move on to introduce agent-based modeling in the next lesson.\n"
   ]
  },
  {
   "cell_type": "markdown",
   "metadata": {},
   "source": [
    "---\n",
    "Copyright 2023 WorldQuant University. This\n",
    "content is licensed solely for personal use. Redistribution or\n",
    "publication of this material is strictly prohibited.\n"
   ]
  }
 ],
 "metadata": {
  "colab": {
   "authorship_tag": "ABX9TyMuZwIJX3n1qk3F7Cp4uwne",
   "name": "Lesson Notes - ECON_Module 7_Lesson 1.ipynb",
   "provenance": [],
   "toc_visible": true
  },
  "kernelspec": {
   "display_name": "Python 3 (ipykernel)",
   "language": "python",
   "name": "python3"
  },
  "language_info": {
   "codemirror_mode": {
    "name": "ipython",
    "version": 3
   },
   "file_extension": ".py",
   "mimetype": "text/x-python",
   "name": "python",
   "nbconvert_exporter": "python",
   "pygments_lexer": "ipython3"
  }
 },
 "nbformat": 4,
 "nbformat_minor": 4
}
