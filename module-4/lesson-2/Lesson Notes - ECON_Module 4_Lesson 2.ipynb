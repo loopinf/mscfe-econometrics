{
 "cells": [
  {
   "cell_type": "markdown",
   "metadata": {
    "id": "SfW_Ou-KVGAa"
   },
   "source": [
    "\n",
    "## FINANCIAL ECONOMETRICS\n",
    "MODULE 4 | LESSON 2\n",
    "\n",
    "---"
   ]
  },
  {
   "cell_type": "markdown",
   "metadata": {
    "id": "fxyw4X77VO2I"
   },
   "source": [
    "# **TIME SERIES STATISTICAL MODELS**"
   ]
  },
  {
   "cell_type": "markdown",
   "metadata": {
    "id": "TAQ1bo80VOqJ"
   },
   "source": [
    "|  |  |\n",
    "|:---|:---|\n",
    "|**Reading Time** | 60 minutes |\n",
    "|**Prior Knowledge** | Regression analysis, Basic statistics  |\n",
    "|**Keywords** |  First difference, Backshift operator, White noise, Random walk, Random walk with a drift, Moving average|\n",
    "\n",
    "\n",
    "---"
   ]
  },
  {
   "cell_type": "markdown",
   "metadata": {
    "id": "1K_JJZDZXd8C"
   },
   "source": [
    "*In this lesson, first, we will proceed from the previous lesson to introduce some methods to remove trends from a non-stationary time series. After that, we are going to introduce some time series models. They are foundational time series models that will help readers understand more complicated time series models to be introduced in later lessons and modules. In particular, we will cover white noise, random walk, random walk with a drift and moving average models. We will calculate their means and variances as wells as ACF and PACF. We will also check their stationarity.*"
   ]
  },
  {
   "cell_type": "code",
   "execution_count": null,
   "metadata": {
    "id": "1649a513-78de-4d06-9184-19f35132be01"
   },
   "outputs": [],
   "source": [
    "# Load libraries\n",
    "import matplotlib.pyplot as plt\n",
    "import numpy as np\n",
    "import pandas as pd\n",
    "import statsmodels\n",
    "import statsmodels.api as sm\n",
    "from statsmodels.tsa.arima_process import arma_generate_sample\n",
    "\n",
    "plt.rcParams[\"figure.figsize\"] = (16, 9)  # Figure size and width"
   ]
  },
  {
   "cell_type": "code",
   "execution_count": null,
   "metadata": {
    "id": "0rpT9raK34hS"
   },
   "outputs": [],
   "source": [
    "# Download the dataset\n",
    "m4_data = pd.read_csv(\"../M4. goog_eur_10.csv\")\n",
    "dxyr_data = pd.read_csv(\"../M4. dxy_r_data.csv\")\n",
    "\n",
    "# Convert date variable to date format\n",
    "m4_data[\"Date2\"] = pd.to_datetime(m4_data[\"Date\"], format=\"%m/%d/%Y\")\n",
    "dxyr_data[\"Date2\"] = pd.to_datetime(dxyr_data[\"Date\"], format=\"%m/%d/%Y\")\n",
    "\n",
    "# Selecting columns\n",
    "goog = m4_data.loc[:, [\"Date2\", \"GOOGLE\"]].set_index(\"Date2\")"
   ]
  },
  {
   "cell_type": "markdown",
   "metadata": {
    "id": "v3sY-pSrXd4x"
   },
   "source": [
    "## **1. Remove Trend from Non-Stationary Time Series**"
   ]
  },
  {
   "cell_type": "markdown",
   "metadata": {
    "id": "lejSCxgIXd2U"
   },
   "source": [
    "In the last lesson, we saw that one of the key points of time series analysis is to understand the relationship of data observations in different time points for a time series. We introduced ACF and PACF that are key metrics to understanding the relationship among the observations in a time series. We also introduced stationary time series. A stationary time series means that its mean and autocovariance are independent of absolute time location of data observations. For example, $Cov(X_t, X_s)$ must depend only on the difference $t-s$. The estimation of ACF and PACF will be accurate and stable without the worry of which section of data we choose to estimate. Hence, it is critical to obtain a stationary time series before doing modeling work.\n",
    "\n",
    "Removing trends from a non-stationary time series is usually the first step to handling the time series data. In this section, we will go through two common methods to remove a trend: using a trend variable or differencing. We will use Google stock as an example to illustrate the process.\n"
   ]
  },
  {
   "cell_type": "markdown",
   "metadata": {
    "id": "kyFy1vAyXdzA"
   },
   "source": [
    "### **1.1 Remove Trend with a Trend Variable**"
   ]
  },
  {
   "cell_type": "markdown",
   "metadata": {
    "id": "x9BjKUY-XdvU"
   },
   "source": [
    "The first method to remove trend from a non-stationary time series is to model the variable with a linear trend variable. Figure 1 shows the concept of a linear trend variable, a straight line against time in the graph.\n"
   ]
  },
  {
   "cell_type": "markdown",
   "metadata": {
    "id": "-MQuQoFbXdsk"
   },
   "source": [
    "**Figure 1: A Trend Variable**\n",
    "\n",
    "![image.png](data:image/png;base64,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)\n"
   ]
  },
  {
   "cell_type": "markdown",
   "metadata": {
    "id": "ZO6C7GZtXdpU"
   },
   "source": [
    "Now, we can run a simple regression model for Google stock price as follows:\n",
    "\n",
    "$$ \\text{Google stock price} = \\text{intercept} + \\beta \\cdot \\text{trend} $$\n",
    "\n",
    "Figure 2 below shows the model result.\n"
   ]
  },
  {
   "cell_type": "markdown",
   "metadata": {
    "id": "aaeE2jDJ4dzc"
   },
   "source": [
    "**Figure 2: Regression Model for Google Stock Price and Trend**\n"
   ]
  },
  {
   "cell_type": "code",
   "execution_count": null,
   "metadata": {
    "id": "9c21d1f8-787f-4730-9f7e-54ae7592f139",
    "outputId": "c048eed0-d18a-4e94-c12b-f2db19475f95"
   },
   "outputs": [],
   "source": [
    "# Detrend\n",
    "timeTrend = np.linspace(1, len(goog.GOOGLE), len(goog.GOOGLE))\n",
    "timeTrend = sm.add_constant(timeTrend)\n",
    "\n",
    "# Fit OLS\n",
    "model = sm.OLS(goog.GOOGLE, timeTrend)\n",
    "fit_g = model.fit()\n",
    "fit_g.summary()"
   ]
  },
  {
   "cell_type": "markdown",
   "metadata": {
    "id": "CEZcNrLu4sUe"
   },
   "source": [
    "Next, let’s plot the residuals from the model against time in the following graph.\n",
    "\n",
    "**Figure 3: Residuals from Simple Regression of Google Stock Price on Trend**\n"
   ]
  },
  {
   "cell_type": "code",
   "execution_count": null,
   "metadata": {
    "id": "f851db4f-69a7-4bf8-8ed6-f852a228b0db",
    "outputId": "267a8350-590f-4afe-8802-de6058cc7570"
   },
   "outputs": [],
   "source": [
    "# Plot residuals\n",
    "goog_res = fit_g.resid\n",
    "goog_res.plot(linewidth=1.3, xlabel=\"Year\", ylabel=\"Residuals\")\n",
    "plt.show()"
   ]
  },
  {
   "cell_type": "markdown",
   "metadata": {
    "id": "HW3-ZzcAXdgo"
   },
   "source": [
    "From figure 3, we can see the residuals from the simple regression model with a trend variable does not appear to exhibit stationarity. The time series of residuals shows what resembles a \"V pattern,\" and therefore, it does not appear that the mean is constant over time. Thus, the residuals from the regression do not form a stationary time series. \n",
    "\n",
    "Adding a trend variable does not seem to be enough to make Google stock price into a stationary time series.\n",
    "\n",
    "Let’s look at the differencing method.\n"
   ]
  },
  {
   "cell_type": "markdown",
   "metadata": {
    "id": "ldDwtGFSXddn"
   },
   "source": [
    "### **2.2 Removing Trend Using the Differencing Method**"
   ]
  },
  {
   "cell_type": "markdown",
   "metadata": {
    "id": "OhPgJlV4Xdaw"
   },
   "source": [
    "Another popular method to remove a trend in a time series is differencing. Before going into the differencing details, let’s define some terms.\n"
   ]
  },
  {
   "cell_type": "markdown",
   "metadata": {
    "id": "QKlaty-1XdXg"
   },
   "source": [
    "#### **2.2.1 Notations**"
   ]
  },
  {
   "cell_type": "markdown",
   "metadata": {
    "id": "EnorxMNXXdVC"
   },
   "source": [
    "The first one we will introduce is first difference. First difference is defined as:\n",
    "\n",
    "$$ \\nabla x_{t} = x_{t} - x_{t-1} $$\n",
    "\n",
    "And second difference can be written as:\n",
    "\n",
    "$$ \\nabla^{2} x_{t} = \\nabla (\\nabla x_t) = \\nabla(x_{t}-x_{t-1}) = (x_{t}-x_{t-1}) - (x_{t-1}-x_{t-2}) $$\n",
    "\n",
    "The next notation is backshift operator. The backshift operator is defined as:\n",
    "\n",
    "$$ B x_{t} = x_{t-1} $$\n",
    "\n",
    "And\n",
    "\n",
    "$$ B^{2} x_{t} = B (B x_{t}) = B x_{t-1} = x_{t-2} $$\n",
    "\n",
    "From above, we can write a general backshift operator as follows:\n",
    "\n",
    "$$ B^{k} x_{t} = x_{t-k} $$\n",
    "\n",
    "With the backshift operator, we can also write the first difference with backshift operator:\n",
    "\n",
    "$$ \\nabla x_{t} = x_{t}-x_{t-1} = x_{t}-Bx_{t} = (1-B)x_{t} $$\n",
    "\n",
    "Then, the second difference can be defined and written as follows:\n",
    "\n",
    "$$ \\nabla ^{2} x_{t} = (1-B)^{2} x_{t} = (1-2B+B^{2}) x_{t} = x_{t} - 2 x_{t-1} + x_{t-2} $$\n",
    "\n",
    "And the difference of order $d$ can be defined as:\n",
    "\n",
    "$$ \\nabla^{d} = (1-B)^{d} $$\n"
   ]
  },
  {
   "cell_type": "markdown",
   "metadata": {
    "id": "2nzSx4QSXdSp"
   },
   "source": [
    "#### **2.2.2. Differencing Method**"
   ]
  },
  {
   "cell_type": "markdown",
   "metadata": {
    "id": "3j32tEFOXdPh"
   },
   "source": [
    "The differencing method is used to generate first difference time series. Let’s keep using Google stock price as an example. Figure 4 shows the first difference of Google stock price.\n"
   ]
  },
  {
   "cell_type": "markdown",
   "metadata": {
    "id": "9X_OsW4d46Rs"
   },
   "source": [
    "**Figure 4: First Difference of Google Stock Price**\n"
   ]
  },
  {
   "cell_type": "code",
   "execution_count": null,
   "metadata": {
    "id": "75071f79-7d42-4fe8-9256-94201c52e5e4",
    "outputId": "3ded37f4-87d5-4d7e-9d0e-b437e6959d5a"
   },
   "outputs": [],
   "source": [
    "# Plot First Difference of Google Stock Price\n",
    "goog.diff().plot(\n",
    "    linewidth=1.3, xlabel=\"Year\", ylabel=\"First difference of Google stock price\"\n",
    ")\n",
    "plt.show()"
   ]
  },
  {
   "cell_type": "markdown",
   "metadata": {
    "id": "O82VGcVHXdIs"
   },
   "source": [
    "We can see that the first difference of Google stock price fluctuates around $0$ during the whole period. However, the variation of the first difference increases as time goes on. It means that variance is dependent on time. Hence, the first differencing of Google stock price is still not enough to make it stationary. Let’s look at its ACF.\n"
   ]
  },
  {
   "cell_type": "markdown",
   "metadata": {
    "id": "jAU-QgOQ5E7z"
   },
   "source": [
    "**Figure 5: ACF of First Difference of Google Stock Price**\n"
   ]
  },
  {
   "cell_type": "code",
   "execution_count": null,
   "metadata": {
    "id": "384f119b-0cd8-4e34-8b1a-2d4908b684ea",
    "outputId": "a5d3bbb4-598d-4554-8127-c2c14135e06f"
   },
   "outputs": [],
   "source": [
    "# ACF of First Difference of Google Stock Price\n",
    "# (Note: [1:] as we need to skip first element since the model lost one data point)\n",
    "fig, ax = plt.subplots(figsize=(12, 9))\n",
    "sm.graphics.tsa.plot_acf(\n",
    "    goog.diff()[1:],\n",
    "    title=\"ACF of First Difference of Google Stock Price\",\n",
    "    lags=30,\n",
    "    ax=ax,\n",
    ")\n",
    "plt.show()"
   ]
  },
  {
   "cell_type": "markdown",
   "metadata": {
    "id": "e9D-CeITXdCc"
   },
   "source": [
    "From figure 5, we can see there are a few lags before lag 16 that are significant at the 95% level. We can use this piece of information for later modeling. \n",
    "\n",
    "We used both the trend variable and differencing methods to remove the trend for Google stock price time series. Unfortunately, neither method did a good job of converting the time series to a stationary one. In the following sections, we will learn more models to see if they would be a better model choice for Google stock price. \n"
   ]
  },
  {
   "cell_type": "markdown",
   "metadata": {
    "id": "vyfwjn-ua78q"
   },
   "source": [
    "## **3. White Noise**"
   ]
  },
  {
   "cell_type": "markdown",
   "metadata": {
    "id": "LzNEmEcwa75e"
   },
   "source": [
    "**White noise** is a special time series model. The white noise time series is generated from a collection of uncorrelated random variables. We can define white noise time series ${W_{t}}$ as follows:\n",
    "\n",
    "$$ {W_{t}}\\sim WN(0,\\sigma^{2}) $$\n",
    "\n",
    "Its autocovariance is given by:\n",
    "\n",
    "$$ \\gamma_{_{W}}(h) = \\begin{cases}\n",
    "  \\sigma_{2}  & \\text{ for }  h=0 \\\\\n",
    "  0  &  \\text{ for } |h| \\gt 0\n",
    "\\end{cases} $$\n",
    "\n",
    "Since both mean and autocovariance of white noise are independent of $t$, white noise is a stationary time series.\n",
    "\n",
    "If the white noise random variables are also independent and identical, we can denote it as follows:\n",
    "\n",
    "$$ {W_{t}} \\sim iid(0,\\sigma^{2}) $$\n",
    "\n",
    "If all the random variables are i.i.d. and normally distributed, this is a normal white noise time series and we can denote it as follows:\n",
    "\n",
    "$$ {W_{t}} \\sim iid N(0,\\sigma^{2}) $$\n",
    "\n",
    "Let’s produce one simulation of a white noise process (see figure 6).\n"
   ]
  },
  {
   "cell_type": "markdown",
   "metadata": {
    "id": "7Ae6FlJu5VT_"
   },
   "source": [
    "**Figure 6: Normal White Noise Time Series Example**\n"
   ]
  },
  {
   "cell_type": "code",
   "execution_count": null,
   "metadata": {
    "id": "ff439219-974f-4949-a12d-52cfbaa93c0a",
    "outputId": "e2bed733-6072-4c0a-9a33-33227e723b32"
   },
   "outputs": [],
   "source": [
    "# Normal white noise ts example\n",
    "plt.plot(np.random.normal(0, 3, 300))\n",
    "plt.title(\"Normal White Noise with Mean=0 and Variance=9\")\n",
    "plt.show()"
   ]
  },
  {
   "cell_type": "markdown",
   "metadata": {
    "id": "VJ2ez2Zaa7y2"
   },
   "source": [
    "Figure 6 shows a white noise time series with mean = $0$ and variance = $9$. We can see the time series is pretty choppy, but it oscillates around $0$. \n",
    "\n",
    "Normal independent white noise is similar to the normal independent error terms in OLS regression. Usually, a time series can be broken down into a trend component, a seasonality component, and a residual component. If we can model the residual using a white noise model, then we will be able to model the whole time series and predict it. The random nature of the white noise makes it a good choice as a random term in the following time series models. \n"
   ]
  },
  {
   "cell_type": "markdown",
   "metadata": {
    "id": "teWROg5ya7uh"
   },
   "source": [
    "## **4. Random Walk**"
   ]
  },
  {
   "cell_type": "markdown",
   "metadata": {
    "id": "ybLHEPuva7rW"
   },
   "source": [
    "The next time series model we would like to talk about is the random walk time series. A random walk time series says that the current value depends only on the past value with a random component. We can write down the math definition as follows:\n",
    "\n",
    "If $\\{ X_{t} \\}$ is a random walk time series and $x_0 = 0$, then $X_{t} = X_{t-1} + W_{t}$ where ${W_{t}} \\sim WN(0,\\sigma^{2})$\n",
    "\n",
    "From the above definition, you can replace $X_{t_1}$ with $X_{t-2} + W_{t_1}$ and continue the same replacement process until $X$ is represented with $W_{i}$ where $i = 1, \\cdots, t$ and $ X_{0}$. We call this a back substitution technique. After you do the process, you can replace the above definition with the following formula:\n",
    "\n",
    "$$ X_{t} = \\sum_{i=1}^{t} W_{i} + X_{0} = \\sum_{i=1}^{t} W_{i} $$\n",
    "\n",
    "The mean function:\n",
    "\n",
    "$$  E(X_{t}) = E(X_{t-1} + W_{t}) = E(\\sum_{i=1}^{t} W_{i} + X_{0}) = X_{0}=0 $$\n",
    "\n",
    "From the mean function, we know it is not dependent on $t$ but on the first time $X_{0}$. In this case, it is $0$.\n",
    "\n",
    "The autocovariance:\n",
    "\n",
    "$$ COV(X_{t+h},X_{t}) = COV(X_{t} + W_{t+1} + W_{t+2} + \\cdots + W_{t+h}, X_{t}) = Cov(X_{t},X_{t}) = t \\delta^{2} $$\n",
    "\n",
    "We can see the autocovariance is dependent on $t$. Hence, the random walk time series is not a stationary time series.\n"
   ]
  },
  {
   "cell_type": "markdown",
   "metadata": {
    "id": "X8mRUvI45f8w"
   },
   "source": [
    "**Figure 7: Random Walk Examples**\n"
   ]
  },
  {
   "cell_type": "code",
   "execution_count": null,
   "metadata": {
    "id": "24c6a34d-9035-4c4c-9f27-e71afac3c592",
    "outputId": "af045361-fbdd-4147-8495-465456aa1b1e"
   },
   "outputs": [],
   "source": [
    "# Four random walks\n",
    "\n",
    "# Helper function\n",
    "def RandWalkPlot(seed):\n",
    "    np.random.seed(seed)\n",
    "    wn = np.random.normal(0, 1, 300)\n",
    "    rw = np.cumsum(wn)\n",
    "    plt.plot(rw)\n",
    "    plt.title(\"Random Walk\")\n",
    "\n",
    "\n",
    "# 4 random walk examples\n",
    "ax1 = plt.subplot(221)\n",
    "RandWalkPlot(12345)  # RW example 1\n",
    "\n",
    "ax2 = plt.subplot(222)\n",
    "RandWalkPlot(54321)  # RW example 2\n",
    "\n",
    "ax3 = plt.subplot(223)\n",
    "RandWalkPlot(222)  # RW example 3\n",
    "\n",
    "ax4 = plt.subplot(224)\n",
    "RandWalkPlot(333)  # RW example 4\n",
    "plt.show()"
   ]
  },
  {
   "cell_type": "markdown",
   "metadata": {
    "id": "Ie3EMc9ha7kn"
   },
   "source": [
    "In figure 7, we simulated four random walk time series of 300 data points with the same setup: normal white noise and $X_{0}=0$. Every time we generate a time series from the same random walk model, we'll get a very different random walk time series. There is no clear common pattern. We can also see random walk is not confined in a range as a stationary time series is. \n",
    "\n",
    "One common random walk time series variation is **random walk with a drift**. Random walk with a drift is to add a constant term $D$ to a random walk model. We can write random walk with a drift model as follows:\n",
    "\n",
    "If $\\{ X_t \\}$ is a random walk with a drift time series and $x_{0} = 0$, then $X_{t} = D + X_{t-1} + W_{t}$ where ${W_{t}} \\sim WN(0,\\sigma^{2})$ and $D$ is a constant\n",
    "\n",
    "We call $D$ a drift. With the back substitution technique, we can rewrite the model as follows:\n",
    "\n",
    "$$ X_{t} = D t + \\sum_{i=1}^{t} W_{i}+X_{0} = D t +\\sum_{i=1}^{t} W_{i} $$\n",
    "\n",
    "The mean function:\n",
    "\n",
    "$$ E(X_{t}) = D t + \\sum_{i=1}^{t} E(W_{i}) = D t $$\n",
    "\n",
    "From the mean function, we see it is dependent on t.\n",
    "\n",
    "The autocovariance:\n",
    "\n",
    "$$ COV(X_{t+h},X_{t}) = COV(X_{t} + W_{t+1} + W_{t+2} + \\cdots + W_{t+h}, X_{t}) = Cov(X_{t},X_{t}) = t \\sigma^{2} $$\n",
    "\n",
    "As the difference of random walk and random walk with a drift is only the addition of a constant drift, their autocovariance should be the same. We can see that random walk with a drift is not a stationary time series either. Both mean and autocovariance depend on $t$. Also because of the addition of drift, the mean is increasing as time increases. Hence, random walk with a drift is a choice to model real world time series that possess a trending pattern. \n"
   ]
  },
  {
   "cell_type": "markdown",
   "metadata": {
    "id": "UySBB0V15t7X"
   },
   "source": [
    "**Figure 8: Random Walk with a Positive Drift and Random Walk with a Negative Drift Examples**\n"
   ]
  },
  {
   "cell_type": "code",
   "execution_count": null,
   "metadata": {
    "id": "0308cd8f-b807-45f1-b471-e0e7af53b51e",
    "outputId": "d839d683-9f80-4d15-b7f4-c3d0dbdedb52"
   },
   "outputs": [],
   "source": [
    "# RW examples with drift\n",
    "np.random.seed(99999)\n",
    "wnd = np.random.normal(0, 1, 500)\n",
    "\n",
    "plt.figure(figsize=(16, 5))\n",
    "ax1 = plt.subplot(121)\n",
    "plt.plot(np.cumsum(wnd + 0.1))\n",
    "plt.title(\"Random Walk With a Positive Drift\")\n",
    "\n",
    "ax2 = plt.subplot(122)\n",
    "plt.plot(np.cumsum(wnd - 0.1))\n",
    "plt.title(\"Random Walk With a Negative Drift\")\n",
    "plt.show()"
   ]
  },
  {
   "cell_type": "markdown",
   "metadata": {
    "id": "qV7MBmj-a7cb"
   },
   "source": [
    "In figure 8, we generated one random walk with a positive drift time series and one random walk with a negative drift time series. We can see the positive drift time series has a clear upward trend as expected. The negative drift time series initially goes up then slowly moves down but the pattern is very choppy. From the above graphs, random walk with a drift can be a model choice for a time series with a trending pattern.\n"
   ]
  },
  {
   "cell_type": "markdown",
   "metadata": {
    "id": "Jy_j9irOl-EA"
   },
   "source": [
    "## **5. Moving Average**"
   ]
  },
  {
   "cell_type": "markdown",
   "metadata": {
    "id": "VF7_94RPl995"
   },
   "source": [
    "A moving average model tries to model a shock with impact in a finite time frame. If a shock in interest has an initial impact and the impact gradually fades in a finite time frame, the moving average model can be a model choice. A moving average with a shock lasting only for a total time range of $q$ can be written as MA($q$) and is defined as follows:\n",
    "\n",
    "$$ W_{t} = W_{t} + \\theta_{1} W_{t-1} + \\theta_{2} W_{t-2} + \\cdots + \\theta_{q} W_{t-q} $$\n",
    "\n",
    "Where $\\theta_{1}, \\theta_{2}, \\cdots, \\theta_{q}$ are parameters and $W_{t}$ is normally distributed white noise with mean = $0$ and variance $\\sigma^{2}$ is $1$. There are $q$ lags in the model.\n",
    "\n",
    "We can also write the MA($q$) model using backshift operator:\n",
    "\n",
    "$$ X_{t} = \\theta(B) W_{t} $$\n",
    "\n",
    "Where $\\theta(B)$ is the **moving average operator** as follows:\n",
    "\n",
    "$$ \\theta(B) = 1 + \\theta_{1} B + \\theta_{2} B^{2} + \\cdots + \\theta_{q} B^{q} $$\n",
    "\n",
    "The following plots show some simulated examples for moving average models.\n"
   ]
  },
  {
   "cell_type": "markdown",
   "metadata": {
    "id": "Byt4Fr-z5_Mx"
   },
   "source": [
    "**Figure 9: MA(1): $\\theta = 0.3$ (Top) and MA(2): $\\theta = -0.7$ (Bottom)**"
   ]
  },
  {
   "cell_type": "code",
   "execution_count": null,
   "metadata": {
    "id": "f7882e16-bd53-4091-b66b-3c1b9dab508c",
    "outputId": "618af8ea-2b03-484f-ea7c-28a933d9e07f"
   },
   "outputs": [],
   "source": [
    "# Moving Average examples\n",
    "\n",
    "# Helper MA1 function\n",
    "def MA1(theta):\n",
    "    arparams = np.array([0.0])\n",
    "    ar = np.r_[1, -arparams]\n",
    "    maparams = np.array([theta])\n",
    "    ma = np.r_[1, maparams]  # add zero-lag\n",
    "    y = arma_generate_sample(ar, ma, nsample=300)\n",
    "    return y\n",
    "\n",
    "\n",
    "# MA(1): theta=0.3\n",
    "plt.figure(figsize=(16, 4))\n",
    "plt.plot(MA1(0.3))\n",
    "plt.title(\"MA(1): $\\\\theta=0.3$\")\n",
    "plt.xlabel(\"Time\")\n",
    "plt.ylabel(\"X\")\n",
    "plt.show()\n",
    "\n",
    "# MA(1): theta=-0.7\n",
    "plt.figure(figsize=(16, 4))\n",
    "plt.plot(MA1(-0.7))\n",
    "plt.title(\"MA(1): $\\\\theta=-0.7$\")\n",
    "plt.xlabel(\"Time\")\n",
    "plt.ylabel(\"X\")\n",
    "plt.show()"
   ]
  },
  {
   "cell_type": "markdown",
   "metadata": {
    "id": "kNG64bMNl9ym"
   },
   "source": [
    "From figure 9, we can see the time series in the bottom plot is more volatile than the time series in the top plot. Now, let’s check the mean, autocovariance, and autocorrelation of MA(1) process.\n",
    "\n",
    "Mean: \n",
    "\n",
    "$$ E(X_{t}) = E(W_{t} + \\theta W_{t-1})=0 $$\n",
    "\n",
    "Autocovariance:\n",
    "\n",
    "$$ \\gamma(h)= \\begin{cases}\n",
    "  (1+\\theta^{2}) \\sigma^{2}  & \\text{ for }  h=0 \\\\\n",
    "  \\theta \\sigma^{2}  &  \\text{ for }  h=1 \\\\\n",
    "  0  &  \\text{ for }  h\\gt 1 \n",
    "\\end{cases} $$\n",
    "\n",
    "ACF:\n",
    "\n",
    "$$ \\rho(h)= \\begin{cases}\n",
    "  \\frac{\\theta}{(1+\\theta^{2})}  &  \\text{ for } h=1 \\\\\n",
    "  0  &  \\text{ for }  h \\gt 1 \n",
    "\\end{cases} $$\n",
    "\n",
    "From the above formula, we know the mean and autocovariance for MA time series are independent of time. Hence, MA time series are stationary. Let’s look at the ACF plots for MA(1).\n"
   ]
  },
  {
   "cell_type": "markdown",
   "metadata": {
    "id": "Ey5dHiJY6Mhp"
   },
   "source": [
    "**Figure 10: ACF of MA(1): $\\theta = 0.3$ and MA(2): $\\theta = -0.7$**\n"
   ]
  },
  {
   "cell_type": "code",
   "execution_count": null,
   "metadata": {
    "id": "2ca17371-e99b-4ffa-b4e7-879e5aeda7c1",
    "outputId": "3a0ff1ae-1f23-45cb-9b0b-aadc8dc478b5"
   },
   "outputs": [],
   "source": [
    "# ACF for MA(1) examples\n",
    "plt.figure(figsize=(16, 5))\n",
    "\n",
    "# ACF for MA(1): theta=0.3\n",
    "ax1 = plt.subplot(121)\n",
    "sm.graphics.tsa.plot_acf(MA1(0.3), title=\"ACF MA(1): $\\\\theta=0.3$\", lags=10, ax=ax1)\n",
    "plt.xlabel(\"Lag\")\n",
    "plt.ylabel(\"ACF\")\n",
    "\n",
    "# ACF for MA(1): theta=-0.7\n",
    "ax2 = plt.subplot(122)\n",
    "sm.graphics.tsa.plot_acf(MA1(-0.7), title=\"ACF MA(1): $\\\\theta=-0.7$\", lags=10, ax=ax2)\n",
    "plt.xlabel(\"Lag\")\n",
    "plt.ylabel(\"ACF\")\n",
    "plt.show()"
   ]
  },
  {
   "cell_type": "markdown",
   "metadata": {
    "id": "sV9m1VCCl9ox"
   },
   "source": [
    "From figure 10, we can see that autocorrelations are $0$ beyond lag 1. This fact is also reflected in the formula of autocovariance and autocorrelation above.\n"
   ]
  },
  {
   "cell_type": "markdown",
   "metadata": {
    "id": "H1vDRYLzl9jE"
   },
   "source": [
    "## **5. Application of Moving Average Model**"
   ]
  },
  {
   "cell_type": "markdown",
   "metadata": {
    "id": "QmZJkljzl9d1"
   },
   "source": [
    "In this section, we will build a time series model for Google stock price using an MA(1) model. We will first build an MA(1) model using the original Google stock price and then we will build another MA(1) model using the first difference of Google's stock price.\n"
   ]
  },
  {
   "cell_type": "markdown",
   "metadata": {
    "id": "oORGcHWtl9YM"
   },
   "source": [
    "### **5.1 MA(1) Model with Original Google Stock Price**"
   ]
  },
  {
   "cell_type": "markdown",
   "metadata": {
    "id": "ECQ7OaqU6a_5"
   },
   "source": [
    "Figure 11 shows the MA(1) model result for the original Google stock price.\n",
    "\n",
    "**Figure 11: MA(1) Model Result for Original Google Stock Price**\n"
   ]
  },
  {
   "cell_type": "code",
   "execution_count": null,
   "metadata": {
    "id": "2b93cbfa-b664-4738-97fb-766fe4633ce4",
    "outputId": "5b7639c8-5f5c-42c1-9056-905822f678af"
   },
   "outputs": [],
   "source": [
    "# MA(1) for Google stock\n",
    "goog_ma1 = statsmodels.tsa.arima.model.ARIMA(goog.GOOGLE, order=(0, 0, 1)).fit()\n",
    "print(goog_ma1.params)"
   ]
  },
  {
   "cell_type": "markdown",
   "metadata": {
    "id": "ydZ0NOfEpYcf"
   },
   "source": [
    "From figure 11, we see the estimated $\\theta$ is 0.9699 and the intercept is 1327.617. Let’s see how the model fits the actual data. Figure 12 shows the plot comparing original Google stock price and fitted stock price.\n"
   ]
  },
  {
   "cell_type": "markdown",
   "metadata": {
    "id": "uY3JmT896xR1"
   },
   "source": [
    "**Figure 12: Original Google Stock Price vs. Fitted Google Stock Price**\n"
   ]
  },
  {
   "cell_type": "code",
   "execution_count": null,
   "metadata": {
    "id": "5d1802b8-7d35-4594-abdd-b350640c1849",
    "outputId": "6aad15e7-9fbb-4f66-b081-f33982318226"
   },
   "outputs": [],
   "source": [
    "# Plot Google vs fitted Google stock prices\n",
    "goog_ma1_res = goog_ma1.resid\n",
    "goog_ma1_fit = goog[\"GOOGLE\"] - goog_ma1_res\n",
    "\n",
    "goog[\"GOOGLE\"].plot(linewidth=0.8, label=\"Original Google stock price\")\n",
    "goog_ma1_fit.plot(linewidth=0.8, label=\"Fitted Google stock price\")\n",
    "plt.xlabel(\"Time\")\n",
    "plt.ylabel(\"Price\")\n",
    "plt.legend()\n",
    "plt.show()"
   ]
  },
  {
   "cell_type": "markdown",
   "metadata": {
    "id": "JngX59_4pYSY"
   },
   "source": [
    "From figure 12, we can see the Fitted Google stock price curve (orange)  does not follow the actual Google stock price curve (blue) very closely. We know that the original Google stock price is not stationary. Hence, let’s perform first differencing of the original stock price and check the first difference time series against an MA(1) model again.\n"
   ]
  },
  {
   "cell_type": "markdown",
   "metadata": {
    "id": "qhbxC2GjpYN3"
   },
   "source": [
    "### **5.2 MA(1) Model with First Difference of Google Stock Price**"
   ]
  },
  {
   "cell_type": "markdown",
   "metadata": {
    "id": "4-pBOsOY6-OU"
   },
   "source": [
    "**Figure 13: MA(1) Model Result for First Difference of Google Stock Price**\n"
   ]
  },
  {
   "cell_type": "code",
   "execution_count": null,
   "metadata": {
    "id": "a91e551c-86eb-4f9f-a06f-d66d74f2c413",
    "outputId": "ae27c3bb-a167-4c00-90b6-4517fc949289"
   },
   "outputs": [],
   "source": [
    "# MA(1) for first difference of Google stock price\n",
    "goog_ma2 = statsmodels.tsa.arima.model.ARIMA(goog.GOOGLE, order=(0, 1, 1)).fit()\n",
    "print(goog_ma2.params)"
   ]
  },
  {
   "cell_type": "markdown",
   "metadata": {
    "id": "-51EpNWFpYFA"
   },
   "source": [
    "We can see now we only have estimated $\\theta$ = -0.07898 but no intercept. It is because we are modeling the first difference. Let’s check the actual vs. predicted graph.\n"
   ]
  },
  {
   "cell_type": "markdown",
   "metadata": {
    "id": "bJPdhoKX7Igz"
   },
   "source": [
    "**Figure 14: Google Stock Price vs. Fitted Google Stock Price Using First Differencing**"
   ]
  },
  {
   "cell_type": "code",
   "execution_count": null,
   "metadata": {
    "id": "26c9d8b3-8d8e-4eb1-bf62-004b7ccff79c",
    "outputId": "3581ea54-1c4d-4b97-fc73-2a24434c6b30"
   },
   "outputs": [],
   "source": [
    "# Plotting Google vs fitted Google stock prices using first differencing\n",
    "goog_ma2_res = goog_ma2.resid\n",
    "goog_ma2_fit = goog[\"GOOGLE\"] - goog_ma2_res\n",
    "\n",
    "goog_ma2_res = goog_ma2_res[\n",
    "    1:\n",
    "]  # need to skip first element since the model lost one data point\n",
    "goog_ma2_fit = goog_ma2_fit[\n",
    "    1:\n",
    "]  # need to skip first element since the model lost one data point\n",
    "\n",
    "goog[\"GOOGLE\"].plot(linewidth=0.8, label=\"Original Google stock price\")\n",
    "goog_ma2_fit.plot(\n",
    "    linewidth=0.8, label=\"Fitted Google stock price using first differencing\"\n",
    ")\n",
    "plt.xlabel(\"Time\")\n",
    "plt.ylabel(\"Price\")\n",
    "plt.legend()\n",
    "plt.show()"
   ]
  },
  {
   "cell_type": "markdown",
   "metadata": {
    "id": "kSrLTRqupX7o"
   },
   "source": [
    "We can see from figure 14 that first differencing resulted in a considerably better model than for the original dataset. It also highlights the importance of making a time series stationary before determining a model for the stationary part of the same.\n"
   ]
  },
  {
   "cell_type": "markdown",
   "metadata": {
    "id": "E4P878CypX3Q"
   },
   "source": [
    "## **6. Conclusion**"
   ]
  },
  {
   "cell_type": "markdown",
   "metadata": {
    "id": "WmPe6pqvpXx7"
   },
   "source": [
    "In this lesson, we first discussed two methods to remove a trend in a time series. The first method is to introduce a trend variable to a simple regression model. The second method is to use first difference. We then started to go through some time series statistical models. We talked about white noise as an error term for time series. Then, we talked about random walk and random walk with a drift to model non-stationary time series. We then introduced moving average model and applied it to Google stock price. In the next lesson, we will continue our journey and learn more time series statistical models.\n"
   ]
  },
  {
   "cell_type": "markdown",
   "metadata": {
    "deletable": false,
    "editable": false
   },
   "source": [
    "---\n",
    "Copyright 2023 WorldQuant University. This\n",
    "content is licensed solely for personal use. Redistribution or\n",
    "publication of this material is strictly prohibited.\n"
   ]
  }
 ],
 "metadata": {
  "colab": {
   "authorship_tag": "ABX9TyOq1nCgm0XRQxzJkoMjZ9ja",
   "name": "Lesson Notes - ECON_Module 4_Lesson 2.ipynb",
   "provenance": [],
   "toc_visible": true
  },
  "kernelspec": {
   "display_name": "Python 3 (ipykernel)",
   "language": "python",
   "name": "python3"
  },
  "language_info": {
   "codemirror_mode": {
    "name": "ipython",
    "version": 3
   },
   "file_extension": ".py",
   "mimetype": "text/x-python",
   "name": "python",
   "nbconvert_exporter": "python",
   "pygments_lexer": "ipython3",
   "version": "3.9.7"
  }
 },
 "nbformat": 4,
 "nbformat_minor": 4
}
