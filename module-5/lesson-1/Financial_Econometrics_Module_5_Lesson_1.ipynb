{
 "cells": [
  {
   "cell_type": "markdown",
   "metadata": {},
   "source": [
    "\n",
    "## FINANCIAL ECONOMETRICS\n",
    "MODULE 5 | LESSON 1\n",
    "\n",
    "---"
   ]
  },
  {
   "cell_type": "markdown",
   "metadata": {},
   "source": [
    "# **ARCH MODEL**"
   ]
  },
  {
   "cell_type": "markdown",
   "metadata": {},
   "source": [
    "|  |  |\n",
    "|:---|:---|\n",
    "|**Reading Time** | 60 minutes |\n",
    "|**Prior Knowledge** | Basics of time series, ARIMA   |\n",
    "|**Keywords** | Conditional Means, Conditional Variance, Volatility Clustering, ARCH(1) Model |\n",
    "\n",
    "\n",
    "---"
   ]
  },
  {
   "cell_type": "markdown",
   "metadata": {},
   "source": [
    "*In the last module, we used the ARIMA model to analyze Google stock price. One key issue we observed was that Google stock price does not exhibit constant variance throughout our modeling time period. This issue does not just happen to Google's stock price. It is very common among many financial asset returns. In this module, we are going to address this phenomenon and find a model to analyze it. We will introduce the ARCH model and GARCH model to handle this issue. They are popular methods in finance to model volatility for many asset returns. In this lesson, we will start with learning the ARCH model and its properties. We will simulate the ARCH process to give a visual example and learn how to use ACF and PACF plots to identify the ARCH process.*"
   ]
  },
  {
   "cell_type": "code",
   "execution_count": null,
   "metadata": {},
   "outputs": [],
   "source": [
    "import matplotlib.pyplot as plt\n",
    "import numpy as np\n",
    "import pandas as pd\n",
    "import statsmodels.api as sm\n",
    "from arch.univariate import ARCH, ConstantMean, Normal\n",
    "from scipy import stats\n",
    "\n",
    "plt.rcParams[\"figure.figsize\"] = (16, 9)  # Figure size and width"
   ]
  },
  {
   "cell_type": "code",
   "execution_count": null,
   "metadata": {},
   "outputs": [],
   "source": [
    "# Download the dataset\n",
    "m5_data = pd.read_csv(\"../M5. goog_eur_10.csv\")\n",
    "\n",
    "# Convert date variable to date format and set index\n",
    "m5_data[\"Date2\"] = pd.to_datetime(m5_data[\"Date\"], format=\"%m/%d/%Y\")\n",
    "goog = m5_data.loc[:, [\"Date2\", \"GOOGLE\"]].set_index(\"Date2\")"
   ]
  },
  {
   "cell_type": "markdown",
   "metadata": {},
   "source": [
    "## **1. Common Features of Financial Asset Returns**"
   ]
  },
  {
   "cell_type": "markdown",
   "metadata": {},
   "source": [
    "There are several special features from financial asset returns. The existence of these features motivates us to use ARCH and GARCH models to analyze financial asset returns. In this section, we are going to go through these features first so that you will have a better understanding of why we need to learn the ARCH and GARCH models. The first feature we'll talk about is the reason to use asset returns to conduct a research project instead of asset prices. \n"
   ]
  },
  {
   "cell_type": "markdown",
   "metadata": {},
   "source": [
    "### **1.1 Asset Return Time Series Data is More Stable Than Asset Price Time Series Data**"
   ]
  },
  {
   "cell_type": "markdown",
   "metadata": {},
   "source": [
    "In a lot of financial research, we usually use asset returns instead of asset prices to conduct analysis for a financial asset. Here are some reasons to use asset returns:\n",
    "\n",
    "> **a.** An asset return provides same-scale time series data for all financial assets. It is easier for comparison among several financial assets with different price levels. \n",
    "\n",
    "> **b.** Asset return time series is usually more stable than asset price time series. Let’s use Google's stock price and return as an example.\n"
   ]
  },
  {
   "cell_type": "markdown",
   "metadata": {},
   "source": [
    "**Figure 1: Google Daily Stock Price and Return Historical Chart 2016 – 2021**\n"
   ]
  },
  {
   "cell_type": "code",
   "execution_count": null,
   "metadata": {},
   "outputs": [],
   "source": [
    "# Plot Google Daily stock price and return\n",
    "\n",
    "# Google Daily stock price\n",
    "plt.plot(goog.GOOGLE)\n",
    "plt.ylabel(\"Google Stock Price\")\n",
    "plt.show()\n",
    "\n",
    "# Google Daily stock price return\n",
    "goog[\"GOOGLE_R\"] = goog.GOOGLE.pct_change()\n",
    "plt.plot(goog.GOOGLE_R)\n",
    "plt.ylabel(\"Google Stock Return\")\n",
    "plt.show()"
   ]
  },
  {
   "cell_type": "markdown",
   "metadata": {},
   "source": [
    "In figure 1, the upper chart is Google’s daily stock price chart. The bottom chart is Google’s stock daily return chart. We can see that Google's price plot has an upward trend whereas Google's return plot oscillates around $0$ and is stable. We can say the return on average is $0$.\n",
    "\n",
    "> **c.** If the asset return is small, we can approximate the return by using the difference of the natural log of price. Here is the formula:\n",
    "\n",
    "$$ r_{t} = \\frac{p_{t}-p_{t-1}}{p_{t-1}} \\approx log(p_{t}) - log(p_{t-1}) $$  \n"
   ]
  },
  {
   "cell_type": "markdown",
   "metadata": {},
   "source": [
    "### **1.2 The Volatility of Asset Returns Can Vary During Different Time Periods**"
   ]
  },
  {
   "cell_type": "markdown",
   "metadata": {},
   "source": [
    "In portfolio management and risk management, managers control risk by monitoring the volatility of the underlying assets. Variance and standard deviations are common metrics to measure volatility. We can see from figure 1 that the local variance of Google stock returns changes substantially across the time period. This time series data exhibits heteroskedasticity. In the return plot, we can see there are pockets of time in the whole period where the movement of returns are more volatile than others. These high volatility pockets do not spread randomly during the whole time period. We call these **volatility clustering**. We notice that there is autocorrelation of asset returns. A highly volatile return one day would be followed by another highly volatile return the next day. It means that the past volatilities will still have an impact on today’s volatility. The highly volatile periods tend to group together. This is a key property that later we would like to model. \n"
   ]
  },
  {
   "cell_type": "markdown",
   "metadata": {},
   "source": [
    "### **1.3 Asset Return Distribution Has Heavier Tails Than Normal Distribution**"
   ]
  },
  {
   "cell_type": "markdown",
   "metadata": {},
   "source": [
    "We have discussed many times in the previous lessons that financial asset returns often show a distribution with heavier tails than normal distribution. Let’s take a look at Google's stock return distribution to see if the same feature shows up. \n"
   ]
  },
  {
   "cell_type": "markdown",
   "metadata": {},
   "source": [
    "**Figure 2: Histogram and Normal QQ Plot for Google Stock Returns**\n"
   ]
  },
  {
   "cell_type": "code",
   "execution_count": null,
   "metadata": {},
   "outputs": [],
   "source": [
    "# Histogram and Normal QQ Plot for Google Stock Returns\n",
    "fig, (ax1, ax2) = plt.subplots(1, 2, figsize=(16, 5))\n",
    "goog_r = goog.GOOGLE_R.dropna()\n",
    "\n",
    "# Histogram with density\n",
    "x = np.linspace(min(goog_r), max(goog_r), len(goog_r))\n",
    "(mu, sigma) = stats.norm.fit(goog_r)\n",
    "values, bins, _ = ax1.hist(goog_r, bins=25)  # Histogram\n",
    "ax1.plot(x, stats.norm.pdf(x, mu, sigma) * sum(values * np.diff(bins)), \"r\")  # Density\n",
    "ax1.set(title=\"Google Stock Return Histogram\")\n",
    "\n",
    "# Normal QQ plot\n",
    "sm.qqplot(goog_r, stats.norm, fit=True, line=\"q\", ax=ax2)\n",
    "ax2.set(title=\"Normal QQ Plot for Google Stock Return\")\n",
    "plt.show()"
   ]
  },
  {
   "cell_type": "markdown",
   "metadata": {},
   "source": [
    "In figure 2, we show Google's stock return histogram and QQ plot. Both plots demonstrate that Google's stock return exhibits fat tail characteristic as well. \n"
   ]
  },
  {
   "cell_type": "markdown",
   "metadata": {},
   "source": [
    "## **2. Conditional Means and Conditional Variances**"
   ]
  },
  {
   "cell_type": "markdown",
   "metadata": {},
   "source": [
    "We have talked about special features for financial asset returns time series. Before we dive into models to formally analyze those features, let’s start by learning some concepts that will prepare us for explaining the models later.\n",
    "\n",
    "We talked about conditional probability in the last module. Now let’s learn how to obtain conditional means and conditional variances.\n",
    "\n",
    "Assume $X$ and $Y$ are two discrete random variables. \n",
    "\n",
    "The **conditional mean** of $Y$ given $X$ is as follows:\n",
    "\n",
    "$$ \\mu_{_{Y | X}} = \\sum f(Y|X) Y = E(Y|X) $$ \n",
    "\n",
    "where $f(Y|X)$ is the conditional probability of $Y$ given $X$.\n",
    "\n",
    "The **conditional variance** of $Y$ given $X$ is as follows:\n",
    "\n",
    "$$ \\sigma^{2}_{_{Y|X}} = \\sum Y^{2} f(X|Y) - \\mu^{2}_{_{Y|X}} = E(Y^{2}|X) -  \\mu^{2}_{_{Y|X}} $$\n",
    "\n",
    "We can see that the calculation for conditional means and conditional variances are very similar to calculation for regular means and variances. The difference is we use conditional probability to calculate conditional means and conditional variances. \n",
    "\n",
    "Why do we need to know conditional means and conditional variances in the time series context? The central idea is how we can incorporate the concept of using past value information to predict today’s value in a model. We actually did that for the ARMA model in the last module. We used the concept of conditional mean to run an ARMA model. Let’s use the following example to illustrate the idea.\n",
    "\n",
    "Consider an AR($p$) model with a constant conditional variance $Var(X_{t} | X_{t-1}, X_{t-2}, \\cdots, X_{t-p}) = \\sigma^{2}$. We can write the AR($p$) model as follows:\n",
    "\n",
    "$$ X_{t} = f(X_{t-1}, X_{t-2}, \\cdots, X_{t-p}) + e_{t} $$ \n",
    "\n",
    "where white noise $e_{t}$ has mean = $0$ and constant conditional variance $\\sigma^{2}$, $\\ f()$ is the conditional mean for $X_{t}$ given $X_{t-1}, X_{t-2}, \\cdots, X_{t-p}$ and $\\sigma^{2}$ is the constant conditional variance for $X_{t}$ given $ X_{t-1}, X_{t-2}, \\cdots, X_{t-p}$.\n",
    "\n",
    "Now if we want to introduce non-constant variance like we observed from the Google data in the last section to the above AR($p$) model, we can rewrite the model as:\n",
    "\n",
    "$$ X_{t} = f(X_{t-1}, X_{t-2}, \\cdots, X_{t-p}) + \\sigma(X_{t-1}, X_{t-2}, \\cdots, X_{t-p})_{t} \\ e_{t} $$\n",
    "\n",
    "Where white noise $e_{t}$ has conditional mean = $0$ and conditional variance = $1$, $\\ \\sigma(X_{t-1}, X_{t-2}, \\cdots, X_{t-p})_{t}$ is the standard deviation for $X_{t}$ given $X_{t-1}, X_{t-2}, \\cdots, X_{t-p}$. This standard deviation will change when $X_{t-1}, X_{t-2}, \\cdots, X_{t-p}$ change. Since $\\sigma(X_{t-1}, X_{t-2}, \\cdots, X_{t-p})_{t}$ is standard deviation, it should be non-negative. Later, we will provide regularity conditions to make sure this function is non-negative.\n",
    "\n",
    "What we just described is a general variance function model for conditional variance. ARCH and GARCH are all types of variance function models.\n",
    "\n",
    "In the following sections, we are going to focus our analysis on asset returns. The common observation is that the conditional mean of asset return is $0$, so we will drop the conditional mean part from the above model to focus on the conditional variance part in the following sections. We will start with a simple ARCH(1) model in this lesson. Then, we will introduce a general ARCH($m$) model. In the next lesson, we will expand the ARCH model and introduce the GARCH model.\n"
   ]
  },
  {
   "cell_type": "markdown",
   "metadata": {},
   "source": [
    "## **3. ARCH(1) Model**"
   ]
  },
  {
   "cell_type": "markdown",
   "metadata": {},
   "source": [
    "Now let’s formally introduce our first conditional variance model, ARCH(1) model. ARCH stands for autoregressive conditional heteroskedasticity. If we have a stationary asset return time series $r_{t}$, we can define ARCH(1) model for $r_{t}$ as follows:\n",
    "\n",
    "$$ r_{t} = \\sigma_{t} e_{t} $$\n",
    "\n",
    "Where $e_{t} \\sim iid N(0,1)$ and \n",
    "\n",
    "$$ \\sigma^{2}_{t} = \\alpha_{0} + \\alpha_{1} r^{2}_{t-1} $$ \n",
    "\n",
    "with $\\alpha_{0}>0$ and $0 \\le \\alpha_{1} < 1$.\n",
    "\n",
    "The design of the above variance equation makes sure the variance is non-negative. The requirement of $\\alpha_{1}\\lt 1$ also ensures $r_{t}$ is stationary with finite variance. Also in many cases, instead of assuming $e_{t}$ to be standard normal distribution, we can assume $e_{t}$ follows a Student's t-distribution. Lastly, the 1 in ARCH(1) refers to the lag 1 asset return in the variance equation. \n",
    "\n",
    "Now let’s review the properties of ARCH(1) model/process.\n"
   ]
  },
  {
   "cell_type": "markdown",
   "metadata": {},
   "source": [
    "### **3.1 ARCH(1) is Strictly Stationary**"
   ]
  },
  {
   "cell_type": "markdown",
   "metadata": {},
   "source": [
    "From $r_{t} = \\sigma_{t} e_{t}$ and $\\sigma^{2}_{t} = \\alpha_{0} + \\alpha_{1} r^{2}_{t-1}$, we know\n",
    "\n",
    "$$ r^{2}_{t} = \\alpha_{0} e_{t}^{2} + \\alpha_{1} e^{2}_{t} r^{2}_{t-1} $$\n",
    "\n",
    "By iterating the above definition, we can show that \n",
    "\n",
    "$$ r_{t} = e_{t} \\sqrt{\\alpha_{0} \\Big(1 + \\sum_{j=1}^{\\infty } \\alpha_{1}^{j} e_{t-1}^{2} \\cdots e_{t-j}^{2} \\Big)} $$\n",
    "\n",
    "We will leave the proof as one open-ended question. \n"
   ]
  },
  {
   "cell_type": "markdown",
   "metadata": {},
   "source": [
    "### **3.2 $r_{t}$ is Conditionally Normally Distributed**"
   ]
  },
  {
   "cell_type": "markdown",
   "metadata": {},
   "source": [
    "The conditional mean of $r_{t}$ is given by:\n",
    "\n",
    "$$ E(r_{t}|r_{s}, s< t) = E(\\sigma_{t}e_{t}|r_{s}, s< t) = \\sigma_{t} E(e_{t}) = \\sigma_{t} \\cdot 0 = 0 $$\n",
    "\n",
    "Conditional variance of $r_{t}$ is as follows:\n",
    "\n",
    "$$ \\sigma^{2}_{t} = \\alpha_{0} + \\alpha_{1} r^{2}_{t-1} $$\n",
    "\n",
    "Hence $r_{t}|r_{t-1} \\sim N(0, \\alpha_{0} + \\alpha_{1} r_{t-1}^{2})$.\n",
    "\n",
    "We can see from the above conditional variance equation, the current variance of $r_{t}$ depends on the past value of $r_{t-1}$. It means when $r_{t-1}$ has a large value at time $t-1$, the variance at time $t$ will be large too. It then implies that $r_{t}$ will have large volatility at time $t$. This model set up is able to capture the volatility clustering phenomenon we observed in the Google stock return data.\n"
   ]
  },
  {
   "cell_type": "markdown",
   "metadata": {},
   "source": [
    "### **3.3 $r_{t}$ is White Noise**"
   ]
  },
  {
   "cell_type": "markdown",
   "metadata": {},
   "source": [
    "The unconditional mean of $r_{t}$ is as follows:\n",
    "\n",
    "$$ E[ E(r_{t} | r_{s}, s < t)] = 0 $$\n",
    "\n",
    "The unconditional variance of $r_{t}$ can be derived by taking the expectation of the equation from Section 3.1.\n",
    "\n",
    "$$ \\begin{align*}\n",
    "  Var(r_{t}) = E(r_{t}^{2}) &= E(e_{t}^{2} (\\alpha_{0} (1 + \\sum_{j=1}^{\\infty} \\alpha_{1}^{j} e_{t-1}^{2} \\cdots e_{t-j}^{2})))  \\\\\n",
    "        &= \\alpha_{0} (1 + \\alpha_{1}^{1} + \\alpha_{1}^{2} + \\cdots + \\alpha_{1}^{\\infty })  \\\\\n",
    "        &= \\frac{\\alpha_{0}}{1-\\alpha_{1}} ,\\quad \\text{where }  0 \\le \\alpha_{1} < 1\n",
    "\\end{align*} $$\n",
    "\n",
    "\n",
    "The autocovariance of $r_{t}$ is:\n",
    "\n",
    "$$ \\begin{align*}\n",
    "  cov(r_{t+h},r_{t}) = E(r_{t+h} r_{t}) &= E[ E(r_{t+h} r_{t} | r_{s}, s\\lt t+h) ] \\\\\n",
    "        &= E[ r_{t} E(r_{t+h} | r_{s}, s\\lt t+h)] \\\\\n",
    "        &=E[ r_{t} \\cdot 0] \\\\\n",
    "        &=0 , \\quad \\text{ for all } h > 0\n",
    "\\end{align*} $$\n",
    "\n",
    "Hence, the unconditional distribution of $r_{t}$ can be written as follows:\n",
    "\n",
    "$$ r_{t} \\sim \\text{white noise} \\Big(0, \\frac{\\alpha_{0}}{1-\\alpha_{1}} \\Big) $$\n",
    "\n",
    "We can see from the above result, $r_{t}$ is unconditionally homoscedastic when $0 \\le \\alpha_{1} < 1$. So when $r_{t}$ is stationary ($0 \\le \\alpha_{1} < 1$), $\\ r_{t}$ is conditionally heteroskedastic but unconditionally homoscedastic.\n",
    "\n",
    "Although we are using asset returns for our ARCH model example, the original ARCH model was used for modeling squared error terms from a time series model. That’s why the ARCH model has this nice unconditional property as white noise.\n"
   ]
  },
  {
   "cell_type": "markdown",
   "metadata": {},
   "source": [
    "### **3.4 $r_{t}$ Is Not i.i.d.**"
   ]
  },
  {
   "cell_type": "markdown",
   "metadata": {},
   "source": [
    "Although $r_{t}$ has $0$ covariance to its past values, $r^{2}_{t}$ does depend on the squared past returns. It can be shown as follows:\n",
    "\n",
    "$$ \\begin{align*}\n",
    "  E(r^{2}_{t}|r_{t-1}) &= E(\\alpha_{0} e_{t}^{2} + \\alpha_{1} e_{t}^{2} r_{t-1}^{2} | r_{t-1})  \\\\\n",
    "        &= \\alpha_{0} + \\alpha_{1} r_{t-1}^{2} \n",
    "\\end{align*} $$\n",
    "\n",
    "So we can see ARCH(1) is a case where the elements in the process have $0$ covariance, but the elements are not independent. This conclusion also confirms our previous knowledge that two variables with $0$ covariance do not mean they are independent.\n"
   ]
  },
  {
   "cell_type": "markdown",
   "metadata": {},
   "source": [
    "### **3.5 $r_{t}^{2}$ IS An AR(1) Process**"
   ]
  },
  {
   "cell_type": "markdown",
   "metadata": {},
   "source": [
    "From the ARCH(1) definition, we can take the square of $r_{t}$ and rewrite the equations as follows:\n",
    "\n",
    "$$ r_{t}^{2} = \\sigma_{t}^{2} e_{t}^{2} $$\n",
    "\n",
    "$$ \\alpha_{0} + \\alpha_{1} r_{t-1}^{2} = \\sigma_{t}^{2} $$\n",
    "\n",
    "We then subtract the second equation from the first equation to get the following equation:\n",
    "\n",
    "$$ r_{t}^{2} - (\\alpha_{0} + \\alpha_{1} r_{t-1}^{2}) = \\sigma_{t}^{2} (e_{t}^{2}-1) $$\n",
    "\n",
    "$$ \\Rightarrow r_{t}^{2} = \\alpha_{0} + \\alpha_{1} r_{t-1}^{2} + \\nu_{t} $$\n",
    "\n",
    "where $\\nu_{t} = \\sigma_{t}^{2} (e_{t}^{2} - 1)$ is white noise and $\\alpha_{1} < 1$.\n",
    "\n",
    "Also if $E(r_{t}^{4}) < \\infty $, then $r_{t}^{2}$ has the same ACF as AR(1) process.\n",
    "\n",
    "The ACF for $r_{t}^{2}$ is as follows: \n",
    "\n",
    "$$\\rho_{r^{2}}(h) = \\alpha_{1}^{|h|}$$ \n",
    "\n",
    "for all $h$ and $\\alpha_{1} < 1$.\n",
    "\n",
    "With the knowledge that the squared asset return is also a stationary AR(1) process, we can use ACF and PACF plots of asset return and squared asset return to look for an ARCH(1) model. If the asset return time series plot exhibits a white noise pattern and the squared asset return PACF plot shows cut off pattern after lag 1, we can use an ARCH(1) model for modeling variance of the asset return. We will talk more about this in later sections.\n"
   ]
  },
  {
   "cell_type": "markdown",
   "metadata": {},
   "source": [
    "### **3.6 $r_{t}$ Has Heavier Tails Than Standard Normal Distribution If $\\alpha_{1}<\\frac{1}{3}$**"
   ]
  },
  {
   "cell_type": "markdown",
   "metadata": {},
   "source": [
    "When $3\\alpha_{1}<1$ and $E(r_{t}^{4})<\\infty $, we can show that kurtosis of $r_{t}$ is greater than 3. It means that $r_{t}$ has heavier tails than standard normal distribution. It is similar to our empirical observations that asset return usually has more outliers than a time series generated from normal distribution."
   ]
  },
  {
   "cell_type": "markdown",
   "metadata": {},
   "source": [
    "### **3.7 ARCH($m$) Process**"
   ]
  },
  {
   "cell_type": "markdown",
   "metadata": {},
   "source": [
    "We have introduced ARCH(1) process in previous sections. We can extend the process to include return values from several pass time periods to form an ARCH($m$) process. An ARCH($m$) process is the process to predict current variance with squared asset return values going back to $m$ time periods. Here is the formal definition for ARCH($m$) process:\n",
    "\n",
    "$$ r_{t} = \\sigma_{t} e_{t} $$\n",
    "\n",
    "Where $e_{t} \\sim iid N(0,1)$ and\n",
    "\n",
    "$$ \\sigma^{2}_{t} = \\alpha_{0} + \\alpha_{1} r^{2}_{t-1} + \\alpha_{2} r_{t-2}^{2} + \\cdots + \\alpha_{m} r_{t-m}^{2} $$\n",
    "\n",
    "With some restrictions on ARCH($m$) coefficients, the squared asset returns will be AR($m$).\n"
   ]
  },
  {
   "cell_type": "markdown",
   "metadata": {},
   "source": [
    "## **4. ARCH(1) Simulation**"
   ]
  },
  {
   "cell_type": "markdown",
   "metadata": {},
   "source": [
    "In this section, let’s take a look at simulation data to get a visual understanding of an ARCH(1) process.\n",
    "\n",
    "**Figure 3: ARCH(1) Simulation n=1000, $\\alpha_{0}=5$ and $\\alpha_{1}=0.5$**\n"
   ]
  },
  {
   "cell_type": "code",
   "execution_count": null,
   "metadata": {},
   "outputs": [],
   "source": [
    "# ARCH(1) Simulation n=1000, alpha_0=5 and alpha_1=0.5\n",
    "\n",
    "# simulated process parameters\n",
    "rs = np.random.RandomState([12345, 77777])\n",
    "dist = Normal(seed=rs)\n",
    "vol = ARCH(p=1)\n",
    "repro_mod = ConstantMean(None, volatility=vol, distribution=dist)\n",
    "params = pd.Series({\"mu\": 0.0, \"omega\": 5, \"alpha[1]\": 0.5, \"beta[1]\": 0.0})\n",
    "\n",
    "# model simulation\n",
    "arch1_sim = repro_mod.simulate(params, nobs=1000)\n",
    "plt.plot(arch1_sim.data)\n",
    "plt.show()"
   ]
  },
  {
   "cell_type": "markdown",
   "metadata": {},
   "source": [
    "Figure 3 shows a simulated ARCH(1) process. From the graph, we can see the time series oscillates around $0$ with occasional bursts of volatility. We can also see there are clusters of high volatility during the whole time period, like around $t = 600$. These features are all in agreement with the common features of financial asset returns we discussed earlier.\n"
   ]
  },
  {
   "cell_type": "markdown",
   "metadata": {},
   "source": [
    "**Figure 4: ACF and PACF of ARCH(1) Simulated Time Series**\n"
   ]
  },
  {
   "cell_type": "code",
   "execution_count": null,
   "metadata": {},
   "outputs": [],
   "source": [
    "# ACF and PACF of ARCH(1) Simulated Time Series\n",
    "fig, (ax1, ax2) = plt.subplots(1, 2, figsize=(16, 5))\n",
    "sm.graphics.tsa.plot_acf(arch1_sim.data.dropna(), lags=20, ax=ax1)\n",
    "ax1.set(title=\"ACF of ARCH(1) Simulated Time Series\")\n",
    "ax1.set_ylim([-0.2, 0.2])\n",
    "\n",
    "sm.graphics.tsa.plot_pacf(arch1_sim.data.dropna(), lags=20, ax=ax2)\n",
    "ax2.set(title=\"PACF of ARCH(1) Simulated Time Series\")\n",
    "ax2.set_ylim([-0.2, 0.2])\n",
    "plt.show()"
   ]
  },
  {
   "cell_type": "markdown",
   "metadata": {},
   "source": [
    "The ACF and PACF plots in figure 4 shows that the simulated time series do not exhibit any correlations and behave quite like white noise.\n",
    "\n",
    "**Figure 5: ACF and PACF of Squared ARCH(1) Simulated Time Series**\n",
    "\n"
   ]
  },
  {
   "cell_type": "code",
   "execution_count": null,
   "metadata": {},
   "outputs": [],
   "source": [
    "# ACF and PACF of Squared ARCH(1) Simulated Time Series\n",
    "fig, (ax1, ax2) = plt.subplots(1, 2, figsize=(16, 5))\n",
    "sm.graphics.tsa.plot_acf(arch1_sim.data.dropna() ** 2, lags=20, ax=ax1)\n",
    "ax1.set(title=\"ACF of Squared ARCH(1) Simulated Time Series\")\n",
    "ax1.set_ylim([-0.5, 0.5])\n",
    "\n",
    "sm.graphics.tsa.plot_pacf(arch1_sim.data.dropna() ** 2, lags=20, ax=ax2)\n",
    "ax2.set(title=\"PACF of Squared ARCH(1) Simulated Time Series\")\n",
    "ax2.set_ylim([-0.5, 0.5])\n",
    "plt.show()"
   ]
  },
  {
   "cell_type": "markdown",
   "metadata": {},
   "source": [
    "However, in figure 5, the PACF plot of squared simulated time series shows a drop after lag 1. The ACF shows a gradual decline. The two graphs suggest the properties of the AR(1) process for the squared simulated time series.\n"
   ]
  },
  {
   "cell_type": "markdown",
   "metadata": {},
   "source": [
    "## **5. Conclusion**"
   ]
  },
  {
   "cell_type": "markdown",
   "metadata": {},
   "source": [
    "In this lesson, we went through the definition and properties of an ARCH(1) model and introduced a more general ARCH($m$) process too. In the next lesson, we will introduce another general form of the ARCH process—the GARCH process. The GARCH process is widely used in finance research. We will go through the basics and demonstrate how to apply the GARCH model to a real finance problem.\n"
   ]
  },
  {
   "cell_type": "markdown",
   "metadata": {},
   "source": [
    "---\n",
    "Copyright 2023 WorldQuant University. This\n",
    "content is licensed solely for personal use. Redistribution or\n",
    "publication of this material is strictly prohibited.\n"
   ]
  }
 ],
 "metadata": {
  "colab": {
   "authorship_tag": "ABX9TyMJpsNe7VXFYtjzjzrRbmZM",
   "name": "Lesson Notes - ECON_Module 5_Lesson 1.ipynb",
   "provenance": [],
   "toc_visible": true
  },
  "kernelspec": {
   "display_name": "Python 3 (ipykernel)",
   "language": "python",
   "name": "python3"
  },
  "language_info": {
   "codemirror_mode": {
    "name": "ipython",
    "version": 3
   },
   "file_extension": ".py",
   "mimetype": "text/x-python",
   "name": "python",
   "nbconvert_exporter": "python",
   "pygments_lexer": "ipython3"
  }
 },
 "nbformat": 4,
 "nbformat_minor": 4
}
